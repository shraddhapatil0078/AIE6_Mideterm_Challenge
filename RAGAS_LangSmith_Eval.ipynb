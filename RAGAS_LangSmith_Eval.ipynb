{
 "cells": [
  {
   "cell_type": "code",
   "execution_count": 1,
   "metadata": {},
   "outputs": [],
   "source": [
    "import os\n",
    "import getpass\n",
    "from langchain_openai import ChatOpenAI, OpenAIEmbeddings\n",
    "from langchain_community.document_loaders import PyMuPDFLoader\n",
    "from langchain_text_splitters import RecursiveCharacterTextSplitter\n",
    "from langchain_community.vectorstores import Qdrant\n",
    "from langchain.retrievers.multi_query import MultiQueryRetriever\n",
    "from langchain_core.prompts import ChatPromptTemplate\n",
    "from operator import itemgetter\n",
    "from langchain_core.output_parsers import StrOutputParser\n",
    "from langchain_core.runnables import RunnablePassthrough\n",
    "from typing import Annotated, List, Tuple, Union, TypedDict, Optional\n",
    "from langchain_core.tools import tool\n",
    "from langchain_core.messages import AnyMessage, AIMessage, HumanMessage\n",
    "from langgraph.graph import START, END, StateGraph\n",
    "from langgraph.graph.message import add_messages\n",
    "from langgraph.prebuilt import ToolNode\n",
    "from qdrant_client import QdrantClient\n",
    "from langchain_community.tools.tavily_search import TavilySearchResults\n"
   ]
  },
  {
   "cell_type": "code",
   "execution_count": 2,
   "metadata": {},
   "outputs": [],
   "source": [
    "os.environ[\"OPENAI_API_KEY\"] = getpass.getpass(\"OpenAI API Key:\")"
   ]
  },
  {
   "cell_type": "code",
   "execution_count": 3,
   "metadata": {},
   "outputs": [],
   "source": [
    "\n",
    "os.environ[\"TAVILY_API_KEY\"] = getpass.getpass(\"TAVILY_API_KEY\")"
   ]
  },
  {
   "cell_type": "code",
   "execution_count": 4,
   "metadata": {},
   "outputs": [],
   "source": [
    "from uuid import uuid4\n",
    "\n",
    "os.environ[\"LANGCHAIN_TRACING_V2\"] = \"true\"\n",
    "os.environ[\"LANGCHAIN_PROJECT\"] = f\"AIE6-Cert_Challenge-rag-agent - {uuid4().hex[0:8]}\"\n",
    "os.environ[\"LANGCHAIN_API_KEY\"] = getpass.getpass(\"Langsmith API Key: \")"
   ]
  },
  {
   "cell_type": "code",
   "execution_count": 5,
   "metadata": {},
   "outputs": [],
   "source": [
    "# Initialize LLM and embedding models\n",
    "llm = ChatOpenAI(model=\"gpt-4o-mini\")\n",
    "embedding_model = OpenAIEmbeddings(model=\"text-embedding-3-small\")"
   ]
  },
  {
   "cell_type": "code",
   "execution_count": 16,
   "metadata": {},
   "outputs": [
    {
     "name": "stdout",
     "output_type": "stream",
     "text": [
      "content='Chicago has a vibrant radio scene that features a diverse array of genres and formats, including music, talk radio, news, sports, and college broadcasts. Here are some key details about radio in Chicago:\\n\\n### Major AM and FM Stations\\n\\n1. **WGN 720 AM**:\\n   - A legendary station known for its news, talk shows, and sports broadcasts. It has a long history in Chicago and is one of the oldest radio stations in the U.S.\\n\\n2. **WGCI 107.5 FM**:\\n   - A popular station playing hip-hop and R&B. It has a significant presence in the urban music scene and often features local artists and events.\\n\\n3. **WXRT 93.1 FM**:\\n   - Known for its adult album alternative format, WXRT features a mix of classic rock, indie, and blues music. The station is highly regarded for its live concert broadcasts and music programming.\\n\\n4. **WBBM Newsradio 780 AM and 105.9 FM**:\\n   - A well-respected source for news and traffic updates, WBBM Newsradio offers all-day news coverage, making it a go-to source for many Chicagoans.\\n\\n5. **The Mix (WTMX 101.9 FM)**:\\n   - This station features a contemporary hit radio format, playing Top 40 hits and is popular among younger audiences.\\n\\n6. **Chicago Public Radio (WBEZ 91.5 FM)**:\\n   - A prominent station that focuses on news and cultural programming, including shows like \"This American Life.\" WBEZ is known for its in-depth reporting and community engagement.\\n\\n### Sports Radio\\n\\n- Chicago is home to dedicated sports radio stations such as **ESPN 1000** and **670 The Score**. These stations cover local sports teams, including the Chicago Bears, Bulls, Cubs, White Sox, and Blackhawks.\\n\\n### Community and College Radio\\n\\n- Chicago has a number of community and college radio stations that provide alternative programming. For example, stations like **WHPK (88.5 FM)** serve the University of Chicago and feature a diverse range of genres, including hip-hop, jazz, and rock.\\n\\n### Digital and Online Radio\\n\\n- Many Chicago stations offer online streaming and podcasts, allowing audiences to listen to their favorite shows on-demand. Additionally, internet radio has become increasingly popular, with platforms like Spotify and online-only stations allowing for broader music exploration.\\n\\n### Events and Culture\\n\\n- Chicago radio stations often participate in community events, including concerts, fundraisers, and promotional activities, making them integral to the city’s cultural fabric.\\n\\n### Regulation and Licensing\\n\\n- The Federal Communications Commission (FCC) regulates radio stations in the United States, including those in Chicago. Stations must comply with various licensing and operational requirements.\\n\\n### Conclusion\\n\\nThe radio landscape in Chicago is rich and diverse, reflecting the city\\'s cultural mosaic. From classic hits to contemporary artists, news to sports talk, the radio offers something for everyone in the Windy City.' additional_kwargs={'refusal': None} response_metadata={'token_usage': {'completion_tokens': 607, 'prompt_tokens': 15, 'total_tokens': 622, 'completion_tokens_details': {'accepted_prediction_tokens': 0, 'audio_tokens': 0, 'reasoning_tokens': 0, 'rejected_prediction_tokens': 0}, 'prompt_tokens_details': {'audio_tokens': 0, 'cached_tokens': 0}}, 'model_name': 'gpt-4o-mini-2024-07-18', 'system_fingerprint': 'fp_0392822090', 'finish_reason': 'stop', 'logprobs': None} id='run-08236d32-f3e8-4387-b18c-c6fc7967bc0d-0' usage_metadata={'input_tokens': 15, 'output_tokens': 607, 'total_tokens': 622, 'input_token_details': {'audio': 0, 'cache_read': 0}, 'output_token_details': {'audio': 0, 'reasoning': 0}}\n"
     ]
    }
   ],
   "source": [
    "response = llm.invoke(\"Give me details about Radio in Chicago?\")\n",
    "print(response)"
   ]
  },
  {
   "cell_type": "code",
   "execution_count": 50,
   "metadata": {},
   "outputs": [],
   "source": [
    "# Set up Tavily search tool\n",
    "tavily_search = TavilySearchResults(max_results=5)"
   ]
  },
  {
   "cell_type": "code",
   "execution_count": 7,
   "metadata": {},
   "outputs": [
    {
     "name": "stdout",
     "output_type": "stream",
     "text": [
      "Total split documents: 1815\n"
     ]
    }
   ],
   "source": [
    "data_folder = 'data'\n",
    "pdf_files = [os.path.join(data_folder, f) for f in os.listdir(data_folder) if f.endswith('.pdf')]\n",
    "\n",
    "# Load all PDFs\n",
    "all_docs = []\n",
    "for pdf_file in pdf_files:\n",
    "    loader = PyMuPDFLoader(pdf_file)\n",
    "    docs = loader.load()\n",
    "    all_docs.extend(docs)\n",
    "\n",
    "# Split documents\n",
    "splitter = RecursiveCharacterTextSplitter(chunk_size=1000, chunk_overlap=200)\n",
    "split_docs = splitter.split_documents(all_docs)\n",
    "print(f'Total split documents: {len(split_docs)}')\n"
   ]
  },
  {
   "cell_type": "code",
   "execution_count": 8,
   "metadata": {},
   "outputs": [],
   "source": [
    "# Set up Qdrant client (local host)\n",
    "# qdrant_client = QdrantClient(host=\"localhost\", port=6333)\n",
    "# collection_name = \"usa_city_wiki_chunks\"\n",
    "# # Safely delete collection if it exists\n",
    "# try:\n",
    "#     qdrant_client.delete_collection(collection_name=collection_name)\n",
    "# except Exception as e:\n",
    "#     print(f\"Collection deletion error (can be ignored if first run): {e}\")\n",
    "\n",
    "# # Create the collection\n",
    "# qdrant_client.create_collection(\n",
    "#     collection_name=collection_name,\n",
    "#     vectors_config={\"size\": 1536, \"distance\": \"Cosine\"}  # OpenAI embeddings = 1536 dims\n",
    "# )\n",
    "\n",
    "# # Set up Qdrant vector store\n",
    "# vector_store = Qdrant(\n",
    "#     client=qdrant_client,\n",
    "#     collection_name=collection_name,\n",
    "#     embeddings=embedding_model,\n",
    "# )\n",
    "\n",
    "# # Add split documents to Qdrant\n",
    "# vector_store.add_documents(split_docs)\n",
    "# print(\"Documents and embeddings stored in Qdrant!\")\n",
    "\n",
    "\n",
    "vector_store = Qdrant.from_documents(\n",
    "    split_docs,\n",
    "    embedding_model,\n",
    "    location=\":memory:\",\n",
    "    collection_name=\"usa_city_wiki_chunks\"\n",
    ")"
   ]
  },
  {
   "cell_type": "code",
   "execution_count": 9,
   "metadata": {},
   "outputs": [],
   "source": [
    "# Create a retriever from the vector store\n",
    "retriever = vector_store.as_retriever(search_kwargs={\"k\": 4})"
   ]
  },
  {
   "cell_type": "code",
   "execution_count": 30,
   "metadata": {},
   "outputs": [],
   "source": [
    "# Define the RAG prompt template\n",
    "RAG_PROMPT = \"\"\"\n",
    "You are an expert assistant that answers questions using ONLY the provided CONTEXT.\n",
    "Do NOT make up any information.\n",
    "\n",
    "CONTEXT:\n",
    "{context}\n",
    "\n",
    "USER QUESTION:\n",
    "{question}\n",
    "\n",
    "Instructions:\n",
    "- If the context fully covers the answer, respond concisely and accurately.\n",
    "- If the context is missing information needed to answer, respond exactly:\n",
    "  INSUFFICIENT_CONTEXT\n",
    "\"\"\"\n",
    "\n",
    "rag_prompt = ChatPromptTemplate.from_template(RAG_PROMPT)"
   ]
  },
  {
   "cell_type": "code",
   "execution_count": 31,
   "metadata": {},
   "outputs": [],
   "source": [
    "# Create the RAG chain\n",
    "# def format_docs(docs):\n",
    "#     return \"\\n\\n\".join(doc.page_content for doc in docs)\n",
    "\n",
    "# rag_chain = (\n",
    "#     {\"context\": retriever | format_docs, \"question\": RunnablePassthrough()}\n",
    "#     | rag_prompt \n",
    "#     | llm \n",
    "#     | StrOutputParser()\n",
    "# )\n",
    "\n",
    "rag_chain =  (\n",
    "    {\"context\": itemgetter(\"question\") | retriever, \"question\": itemgetter(\"question\")}\n",
    "    | RunnablePassthrough.assign(context=itemgetter(\"context\"))\n",
    "    | {\"response\": rag_prompt | llm, \"context\": itemgetter(\"context\")}\n",
    ")   \n"
   ]
  },
  {
   "cell_type": "code",
   "execution_count": 32,
   "metadata": {},
   "outputs": [
    {
     "data": {
      "text/plain": [
       "\"Chicago has five 50,000 watt AM radio stations: WBBM and WSCR, both owned by Audacy; WGN, owned by Tribune Broadcasting; WLS, owned by Cumulus Media; and WMVP, owned by ESPN Radio. Chicago Public Radio produces nationally aired programs such as PRI's This American Life and NPR's Wait Wait...Don't Tell Me!. Additionally, Chicago is home to a number of national radio shows, including Beyond the Beltway with Bruce DuMont, which airs on Sunday evenings.\""
      ]
     },
     "execution_count": 32,
     "metadata": {},
     "output_type": "execute_result"
    }
   ],
   "source": [
    "rag_chain.invoke({\"question\": \"Give me details about Radio in Chicago?\"})[\"response\"].content"
   ]
  },
  {
   "cell_type": "code",
   "execution_count": 33,
   "metadata": {},
   "outputs": [
    {
     "data": {
      "text/plain": [
       "'INSUFFICIENT_CONTEXT'"
      ]
     },
     "execution_count": 33,
     "metadata": {},
     "output_type": "execute_result"
    }
   ],
   "source": [
    "rag_chain.invoke({\"question\": \"Give me details about San Antonio?\"})[\"response\"].content"
   ]
  },
  {
   "cell_type": "code",
   "execution_count": 58,
   "metadata": {},
   "outputs": [],
   "source": [
    "# ─────── WRAP rag_chain as a BaseTool ───────\n",
    "@tool\n",
    "def rag_tool(input: str) -> dict:\n",
    "    \"\"\"Use this tool to answer questions about city information.\"\"\"\n",
    "    response = rag_chain.invoke({\"question\": input})\n",
    "    return {\n",
    "        \"answer\": response[\"response\"],\n",
    "        \"context\": response[\"context\"]\n",
    "    }"
   ]
  },
  {
   "cell_type": "code",
   "execution_count": 59,
   "metadata": {},
   "outputs": [
    {
     "name": "stdout",
     "output_type": "stream",
     "text": [
      "{'answer': AIMessage(content='INSUFFICIENT_CONTEXT', additional_kwargs={'refusal': None}, response_metadata={'token_usage': {'completion_tokens': 6, 'prompt_tokens': 1972, 'total_tokens': 1978, 'completion_tokens_details': {'accepted_prediction_tokens': 0, 'audio_tokens': 0, 'reasoning_tokens': 0, 'rejected_prediction_tokens': 0}, 'prompt_tokens_details': {'audio_tokens': 0, 'cached_tokens': 0}}, 'model_name': 'gpt-4o-mini-2024-07-18', 'system_fingerprint': 'fp_0392822090', 'finish_reason': 'stop', 'logprobs': None}, id='run-448b42a6-29b7-4ebd-97d9-0619d03ae835-0', usage_metadata={'input_tokens': 1972, 'output_tokens': 6, 'total_tokens': 1978, 'input_token_details': {'audio': 0, 'cache_read': 0}, 'output_token_details': {'audio': 0, 'reasoning': 0}}), 'context': [Document(metadata={'producer': 'Skia/PDF m136', 'creator': 'Mozilla/5.0 (Windows NT 10.0; Win64; x64) AppleWebKit/537.36 (KHTML, like Gecko) Chrome/136.0.0.0 Safari/537.36', 'creationdate': '2025-05-11T02:32:16+00:00', 'source': 'data/Houston - Wikipedia.pdf', 'file_path': 'data/Houston - Wikipedia.pdf', 'total_pages': 60, 'format': 'PDF 1.4', 'title': 'Houston - Wikipedia', 'author': '', 'subject': '', 'keywords': '', 'moddate': '2025-05-11T02:32:16+00:00', 'trapped': '', 'page': 1, '_id': 'e72bc401a7e74214a151d1d338130cba', '_collection_name': 'usa_city_wiki_chunks'}, page_content='and exhibits, such as the Houston Museum District and the\\nHouston Theater District.[19]\\nPresent-day Houston sits on land that was once occupied by\\nthe Karankawa and the Atakapa indigenous peoples for at\\nleast \\n2,000 \\nyears \\nbefore \\nthe \\nfirst \\nknown \\nsettlers\\narrived.[20][21][22] These tribes are almost nonexistent today;\\nthis was most likely caused by foreign disease, and\\ncompetition with various settler groups in the 18th and 19th\\ncenturies.[23] However, the land then remained largely\\nuninhabited from the late 1700s until settlement in the\\n1830s.[24]\\nThe Allen brothers—Augustus Chapman and John Kirby—\\nexplored town sites on Buffalo Bayou and Galveston Bay.\\nAccording to historian David McComb, \"[T]he brothers, on\\nAugust 26, 1836, bought from Elizabeth E. Parrott, wife of\\nT.F.L. Parrott and widow of John Austin, the south half of the\\nlower league [2,214-acre (896\\xa0ha) tract] granted to her by her\\nlate husband. They paid $5,000 total, but only $1,000 of this'), Document(metadata={'producer': 'Skia/PDF m136', 'creator': 'Mozilla/5.0 (Windows NT 10.0; Win64; x64) AppleWebKit/537.36 (KHTML, like Gecko) Chrome/136.0.0.0 Safari/537.36', 'creationdate': '2025-05-11T02:32:16+00:00', 'source': 'data/Houston - Wikipedia.pdf', 'file_path': 'data/Houston - Wikipedia.pdf', 'total_pages': 60, 'format': 'PDF 1.4', 'title': 'Houston - Wikipedia', 'author': '', 'subject': '', 'keywords': '', 'moddate': '2025-05-11T02:32:16+00:00', 'trapped': '', 'page': 33, '_id': '6900fa1cf59e473ebaeef0eff70f3193', '_collection_name': 'usa_city_wiki_chunks'}, page_content='9. \"Houston, Texas Geography Profile\" (https://data.census.gov/cedsci/profile?q=Houston%20city,%20Texas\\n&g=1600000US4835000). U.S. Census Bureau. Retrieved May 8, 2019.\\n10. \"Facts and Figures\" (https://www.houstontx.gov/abouthouston/houstonfacts.html). City of Houston\\neGovernment Center. Archived (https://web.archive.org/web/20190221112147/https://www.houstontx.gov/\\nabouthouston/houstonfacts.html) from the original on February 21, 2019. Retrieved February 21, 2019.\\n11. Kleiner, D.J.: Allen\\'s Landing (https://tshaonline.org/handbook/online/articles/hvabg) from the Handbook\\nof Texas Online (February 3, 2005). Retrieved 2007-06-10.\\n12. McComb, David G. (January 19, 2008). \"Houston, Texas\" (https://tshaonline.org/handbook/online/articles/\\nhdh03). Handbook of Texas Online. Archived (https://web.archive.org/web/20110412053108/http://www.ts\\nhaonline.org/handbook/online/articles/hdh03) from the original on April 12, 2011. Retrieved June 1, 2008.'), Document(metadata={'producer': 'Skia/PDF m136', 'creator': 'Mozilla/5.0 (Windows NT 10.0; Win64; x64) AppleWebKit/537.36 (KHTML, like Gecko) Chrome/136.0.0.0 Safari/537.36', 'creationdate': '2025-05-11T02:32:16+00:00', 'source': 'data/Houston - Wikipedia.pdf', 'file_path': 'data/Houston - Wikipedia.pdf', 'total_pages': 60, 'format': 'PDF 1.4', 'title': 'Houston - Wikipedia', 'author': '', 'subject': '', 'keywords': '', 'moddate': '2025-05-11T02:32:16+00:00', 'trapped': '', 'page': 20, '_id': 'f5d097fdfa2543aaa9e7c3a9509b6f63', '_collection_name': 'usa_city_wiki_chunks'}, page_content='Bun B, Geto Boys, Trae tha Truth, Kirko Bangz, Z-Ro, South Park Mexican, Travis Scott and Megan Thee\\nStallion.[253]\\nThe Theater District is a 17-block area in the center of Downtown Houston that is home to the Bayou Place\\nentertainment complex, restaurants, movies, plazas, and parks. Bayou Place is a large multilevel building\\ncontaining full-service restaurants, bars, live music, billiards, and Sundance Cinema. The Bayou Music Center\\nstages live concerts, stage plays, and stand-up comedy.\\nTourism and recreation\\n5/10/25, 9:32 PM\\nHouston - Wikipedia\\nhttps://en.wikipedia.org/wiki/Houston\\n21/60'), Document(metadata={'producer': 'Skia/PDF m136', 'creator': 'Mozilla/5.0 (Windows NT 10.0; Win64; x64) AppleWebKit/537.36 (KHTML, like Gecko) Chrome/136.0.0.0 Safari/537.36', 'creationdate': '2025-05-11T02:32:16+00:00', 'source': 'data/Houston - Wikipedia.pdf', 'file_path': 'data/Houston - Wikipedia.pdf', 'total_pages': 60, 'format': 'PDF 1.4', 'title': 'Houston - Wikipedia', 'author': '', 'subject': '', 'keywords': '', 'moddate': '2025-05-11T02:32:16+00:00', 'trapped': '', 'page': 21, '_id': 'e67e4e75dd664d31b183d77a659e35b3', '_collection_name': 'usa_city_wiki_chunks'}, page_content='skateparks in Texas consisting of a 30,000\\xa0sq\\xa0ft (2,800\\xa0m2) in-ground facility.\\nThe Gerald D. Hines Waterwall Park in the Uptown District of the city serves as a popular tourist attraction\\nand for weddings and various celebrations. A 2011 study by Walk Score ranked Houston the 23rd most\\nwalkable of the 50 largest cities in the United States.[256]\\nHouston has sports teams for every major professional league except\\nthe National Hockey League. The Houston Astros are a Major League\\nBaseball expansion team formed in 1962 (known as the \"Colt .45s\"\\nuntil 1965) that have won the World Series in 2017 and 2022 and\\nappeared in it in 2005, 2019, and 2021. It is the only MLB team to\\nhave won pennants in both modern leagues.[257] The Houston\\nRockets are a National Basketball Association franchise based in the\\ncity since 1971. They have won two NBA Championships, one in 1994\\nand another in 1995, under star players Hakeem Olajuwon, Otis\\nThorpe, Clyde Drexler, Vernon Maxwell, and Kenny Smith.[258] The')]}\n"
     ]
    }
   ],
   "source": [
    "result = rag_tool.invoke({\"input\": \"Give me details about San Antonio??\"})\n",
    "print(result)"
   ]
  },
  {
   "cell_type": "code",
   "execution_count": 60,
   "metadata": {},
   "outputs": [],
   "source": [
    "@tool\n",
    "def tavily_tool(input: str) -> dict:\n",
    "    \"\"\"Use this tool to perform a web search using Tavily and return search results.\"\"\"\n",
    "    results = tavily_search.invoke({\"query\": input})\n",
    "    return {\n",
    "        \"results\": results # this will be a list of dictionaries\n",
    "    }"
   ]
  },
  {
   "cell_type": "code",
   "execution_count": 61,
   "metadata": {},
   "outputs": [
    {
     "name": "stdout",
     "output_type": "stream",
     "text": [
      "{'results': [{'url': 'https://www.theweathernetwork.com/en/city/us/texas/san-antonio/current', 'content': 'San Antonio, TX. Updated 4 minutes ago. 23. °C. Overcast. Feels 23. H: 41° L: 24°. Hourly. Full 72 hours · 9am. A mix of sun and clouds. 25°. Feels 25.'}, {'url': 'https://www.timeanddate.com/weather/usa/san-antonio', 'content': 'Weather in San Antonio, Texas, USA\\n\\nScattered clouds.\\n\\nFeels Like: 94\\xa0°FForecast: 105 / 71\\xa0°FWind: 8 mph ↑ from Southeast\\n\\nLocation: | San Antonio International Airport\\nCurrent Time: | May 14, 2025 at 2:01:19 pm\\nLatest Report: | May 14, 2025 at 12:51 pm\\nVisibility: | 10\\xa0mi\\nPressure: | 29.67 \"Hg\\nHumidity: | 52%\\nDew Point: | 69\\xa0°F\\nUpcoming 5 hours\\n\\nNow | 3:00 pm | 4:00 pm | 5:00 pm | 6:00 pm | 7:00 pm\\n |  |  |  |  | \\n89\\xa0°F | 101\\xa0°F | 103\\xa0°F | 104\\xa0°F | 103\\xa0°F | 101\\xa0°F\\nSee more hour-by-hour weather [...] Wind Direction | S↑ | SE↑ | ESE↑ | SSE↑ | S↑ | SE↑ | SE↑\\nHumidity | 30% | 44% | 80% | 72% | 32% | 46% | 82%\\nDew Point | 64\\xa0°F | 67\\xa0°F | 70\\xa0°F | 67\\xa0°F | 64\\xa0°F | 67\\xa0°F | 72\\xa0°F\\nVisibility | 9\\xa0mi | 6\\xa0mi | 6\\xa0mi | 7\\xa0mi | 8\\xa0mi | 7\\xa0mi | 7\\xa0mi\\nProbability of Precipitation | 0% | 0% | 0% | 5% | 1% | 0% | 3%\\nAmount of Rain | - | - | - | 0.00\" | - | - | -\\n* Updated Wednesday, May 14, 2025 8:42:51 am San Antonio time - Weather by CustomWeather, © 2025 [...] | Wednesday | Thursday | Friday\\n | Afternoon | Evening | Night | Morning | Afternoon | Evening | Night\\nForecast |  |  |  |  |  |  | \\nTemperature | 101\\xa0°F | 92\\xa0°F | 76\\xa0°F | 77\\xa0°F | 98\\xa0°F | 91\\xa0°F | 78\\xa0°F\\n | Scatt\\xaderred clouds. | Mostly cloudy. | Cloudy. | Isolated thunder\\xadstorms. Overcast. | Overcast. | Scatt\\xaderred clouds. | Overcast.\\nFeels Like | 105\\xa0°F | 96\\xa0°F | 77\\xa0°F | 78\\xa0°F | 101\\xa0°F | 95\\xa0°F | 80\\xa0°F\\nWind Speed | 13 mph | 17 mph | 6 mph | 7 mph | 16 mph | 14 mph | 10 mph'}, {'url': 'https://www.accuweather.com/en/us/san-antonio/78205/weather-forecast/351198', 'content': 'Current Weather. 11:53 AM. 86°F. Mostly sunny. RealFeel® 99°. San Antonio Weather Radar. San Antonio Weather Radar. Static Radar Temporarily Unavailable. Thank'}, {'url': 'https://www.accuweather.com/en/us/san-antonio/78205/current-weather/351198', 'content': 'Current Weather · 81°F Mostly cloudy · RealFeel® 90°. Hot. RealFeel Guide. Hot. 90° to 100°. Caution advised. Possible danger of dehydration, heat stroke, heat'}, {'url': 'https://www.wunderground.com/weather/us/tx/san-antonio', 'content': 'Intervals of clouds and sunshine. Near record high temperatures. High 103F. Winds SSE at 5 to 10 mph.'}]}\n"
     ]
    }
   ],
   "source": [
    "result = tavily_tool.invoke({\"input\": \"What is the current temperature in San Antonio\"})\n",
    "print(result)"
   ]
  },
  {
   "cell_type": "code",
   "execution_count": 63,
   "metadata": {},
   "outputs": [],
   "source": [
    "# Define agent state\n",
    "class AgentState(TypedDict):\n",
    "    input: str\n",
    "    rag_result: Optional[dict]\n",
    "    tavily_result: Optional[dict]"
   ]
  },
  {
   "cell_type": "code",
   "execution_count": 72,
   "metadata": {},
   "outputs": [],
   "source": [
    "#  Branching function\n",
    "def should_fallback(state: AgentState) -> str:\n",
    "    rag_response = state.get(\"rag_result\", {}).get(\"answer\", \"\")\n",
    "    # check if rag_response is an AIMessage object\n",
    "    if hasattr(rag_response, \"content\"):\n",
    "        response_text = rag_response.content\n",
    "    else:\n",
    "        response_text = rag_response\n",
    "    \n",
    "    if response_text.strip().upper() == \"INSUFFICIENT_CONTEXT\":\n",
    "        return \"fallback\"\n",
    "    else:\n",
    "        return \"continue\"\n"
   ]
  },
  {
   "cell_type": "code",
   "execution_count": 74,
   "metadata": {},
   "outputs": [],
   "source": [
    "from langchain_core.runnables import RunnableLambda\n",
    "\n",
    "#Create LangGraph\n",
    "graph = StateGraph(AgentState)\n",
    "\n",
    "# Entry point → user provides query\n",
    "graph.add_node(\"user_input\", RunnableLambda(lambda state: {\"input\": state[\"input\"]}))\n",
    "# Call rag_tool\n",
    "graph.add_node(\"call_rag\", RunnableLambda(lambda state: {\"rag_result\": rag_tool.invoke({\"input\": state[\"input\"]})}))\n",
    "\n",
    "# Check if fallback needed\n",
    "graph.add_conditional_edges(\n",
    "    \"call_rag\",\n",
    "    should_fallback,\n",
    "    {\n",
    "        \"continue\": END,         # if RAG gave an answer → stop\n",
    "        \"fallback\": \"call_tavily\"  # else → call tavily\n",
    "    }\n",
    ")\n",
    "\n",
    "# Call tavily_tool if needed\n",
    "graph.add_node(\"call_tavily\", RunnableLambda(lambda state: {\n",
    "    \"tavily_result\": tavily_tool.invoke({\"input\": state[\"input\"]}),\n",
    "    \"rag_result\": state[\"rag_result\"]  # keep rag result for context\n",
    "}))\n",
    "\n",
    "# Set graph entry + finish\n",
    "graph.set_entry_point(\"user_input\")\n",
    "graph.add_edge(\"user_input\", \"call_rag\")\n",
    "graph.add_edge(\"call_tavily\", END)\n",
    "\n",
    "# Compile your runnable agent\n",
    "agent = graph.compile()\n"
   ]
  },
  {
   "cell_type": "code",
   "execution_count": 75,
   "metadata": {},
   "outputs": [
    {
     "data": {
      "image/png": "[encoded data removed]",
      "text/plain": [
       "<IPython.core.display.Image object>"
      ]
     },
     "metadata": {},
     "output_type": "display_data"
    }
   ],
   "source": [
    "from IPython.display import Image, display\n",
    "from langchain_core.runnables.graph import CurveStyle, MermaidDrawMethod, NodeStyles\n",
    "\n",
    "import nest_asyncio\n",
    "nest_asyncio.apply()\n",
    "\n",
    "display(\n",
    "    Image(\n",
    "        agent.get_graph().draw_mermaid_png(\n",
    "            curve_style=CurveStyle.LINEAR,\n",
    "            node_colors=NodeStyles(first=\"#ffdfba\", last=\"#baffc9\", default=\"#fad7de\"),\n",
    "            wrap_label_n_words=9,\n",
    "            output_file_path=None,\n",
    "            draw_method=MermaidDrawMethod.PYPPETEER,\n",
    "            background_color=\"white\",\n",
    "            padding=10,\n",
    "        )\n",
    "    )\n",
    ")"
   ]
  },
  {
   "cell_type": "code",
   "execution_count": 79,
   "metadata": {},
   "outputs": [
    {
     "name": "stdout",
     "output_type": "stream",
     "text": [
      "\n",
      "📄 Answer from RAG (your PDFs):\n",
      "content='The nicknames of Chicago include The Windy City, Chi-Town, Second City, and City of the Big Shoulders.' additional_kwargs={'refusal': None} response_metadata={'token_usage': {'completion_tokens': 26, 'prompt_tokens': 1995, 'total_tokens': 2021, 'completion_tokens_details': {'accepted_prediction_tokens': 0, 'audio_tokens': 0, 'reasoning_tokens': 0, 'rejected_prediction_tokens': 0}, 'prompt_tokens_details': {'audio_tokens': 0, 'cached_tokens': 0}}, 'model_name': 'gpt-4o-mini-2024-07-18', 'system_fingerprint': 'fp_0392822090', 'finish_reason': 'stop', 'logprobs': None} id='run-bf3a0481-5986-4221-bffb-0b3f480e9d94-0' usage_metadata={'input_tokens': 1995, 'output_tokens': 26, 'total_tokens': 2021, 'input_token_details': {'audio': 0, 'cache_read': 0}, 'output_token_details': {'audio': 0, 'reasoning': 0}}\n",
      "Context used: [Document(metadata={'producer': 'Skia/PDF m136', 'creator': 'Mozilla/5.0 (Windows NT 10.0; Win64; x64) AppleWebKit/537.36 (KHTML, like Gecko) Chrome/136.0.0.0 Safari/537.36', 'creationdate': '2025-05-11T02:32:03+00:00', 'source': 'data/Chicago - Wikipedia.pdf', 'file_path': 'data/Chicago - Wikipedia.pdf', 'total_pages': 57, 'format': 'PDF 1.4', 'title': 'Chicago - Wikipedia', 'author': '', 'subject': '', 'keywords': '', 'moddate': '2025-05-11T02:32:03+00:00', 'trapped': '', 'page': 0, '_id': '9e9bd6a924f04ec5bb20b664dcedbe33', '_collection_name': 'usa_city_wiki_chunks'}, page_content='Chicago\\nCity\\nThe Loop\\nChicago River\\n\"L\" train\\nWrigley Field\\nNavy Pier\\nArt Institute of\\nChicago\\nBuckingham Fountain\\nFlag\\nSeal\\nLogo\\nEtymology: Miami-Illinois: šikaakwa (\\'wild onion\\'\\nor \\'wild garlic\\')\\nNicknames:\\xa0The Windy City and others\\nMottoes:\\xa0Latin: Urbs in Horto (City in a Garden);\\nI Will\\nChicago\\nChicago[a] is the most populous city in the U.S. state of Illinois\\nand in the Midwestern United States. With a population of\\n2,746,388, as of the 2020 census,[9] it is the third-most populous\\ncity in the United States after New York City and Los Angeles. As\\nthe seat of Cook County, the second-most populous county in the\\nU.S., Chicago is the center of the Chicago metropolitan area, often\\ncolloquially called \"Chicagoland\" and home to 9.6 million\\nresidents.\\nLocated on the shore of Lake Michigan, Chicago was incorporated\\nas a city in 1837 near a portage between the Great Lakes and the\\nMississippi River watershed. It grew rapidly in the mid-19th'), Document(metadata={'producer': 'Skia/PDF m136', 'creator': 'Mozilla/5.0 (Windows NT 10.0; Win64; x64) AppleWebKit/537.36 (KHTML, like Gecko) Chrome/136.0.0.0 Safari/537.36', 'creationdate': '2025-05-11T02:32:03+00:00', 'source': 'data/Chicago - Wikipedia.pdf', 'file_path': 'data/Chicago - Wikipedia.pdf', 'total_pages': 57, 'format': 'PDF 1.4', 'title': 'Chicago - Wikipedia', 'author': '', 'subject': '', 'keywords': '', 'moddate': '2025-05-11T02:32:03+00:00', 'trapped': '', 'page': 1, '_id': '515de5d520d54e16ae6c2b67d32544c2', '_collection_name': 'usa_city_wiki_chunks'}, page_content='the word šikaakwa which can mean both \"skunk\" and \"ramps,\" a\\nwild relative of onion and garlic known to botanists as Allium\\ntricoccum.[20] The first known reference to the site of the current\\ncity of Chicago as \"Checagou\" was by Robert de\\xa0LaSalle around\\n1679 in a memoir.[21] Henri Joutel, in his journal of 1688, noted\\nthat the eponymous wild \"garlic\" grew profusely in the area.[22]\\nAccording to his diary of late September 1687:\\n... when we arrived at the said place called \"Chicagou\"\\nwhich, according to what we were able to learn of it, has\\ntaken this name because of the quantity of garlic which\\ngrows in the forests in this region.[22]\\nThe city has had several nicknames throughout its history, such as\\nthe Windy City, Chi-Town, Second City, and City of the Big\\nShoulders.[23]\\nIn the mid-18th century, the area was inhabited by the\\nPotawatomi, an indigenous tribe who had succeeded the Miami,\\nSauk and Meskwaki peoples in this region.[24]'), Document(metadata={'producer': 'Skia/PDF m136', 'creator': 'Mozilla/5.0 (Windows NT 10.0; Win64; x64) AppleWebKit/537.36 (KHTML, like Gecko) Chrome/136.0.0.0 Safari/537.36', 'creationdate': '2025-05-11T02:32:03+00:00', 'source': 'data/Chicago - Wikipedia.pdf', 'file_path': 'data/Chicago - Wikipedia.pdf', 'total_pages': 57, 'format': 'PDF 1.4', 'title': 'Chicago - Wikipedia', 'author': '', 'subject': '', 'keywords': '', 'moddate': '2025-05-11T02:32:03+00:00', 'trapped': '', 'page': 27, '_id': '58b625ca1a394293817b1799a3547ed7', '_collection_name': 'usa_city_wiki_chunks'}, page_content=\"newspaper), the Chicago Reader, the SouthtownStar, the Chicago Defender, the Daily Herald, Newcity,[332][333]\\nStreetWise and the Windy City Times. The entertainment and cultural magazine Time Out Chicago and GRAB\\nmagazine are also published in the city, as well as local music magazine Chicago Innerview. In addition, Chicago\\nis the home of satirical national news outlet, The Onion, as well as its sister pop-culture publication, The A.V.\\nClub.[334]\\nChicago has five 50,000 watt AM radio stations: the Audacy-owned WBBM and WSCR; the Tribune\\nBroadcasting-owned WGN; the Cumulus Media-owned WLS; and the ESPN Radio-owned WMVP. Chicago is also\\nhome to a number of national radio shows, including Beyond the Beltway with Bruce DuMont on Sunday\\nevenings.\\nChicago Public Radio produces nationally aired programs such as PRI's This American Life and NPR's Wait\\nWait...Don't Tell Me!.\\nTelevision stations\\nNewspapers\\nMovies and filming\\nRadio\\n5/10/25, 9:32 PM\\nChicago - Wikipedia\"), Document(metadata={'producer': 'Skia/PDF m136', 'creator': 'Mozilla/5.0 (Windows NT 10.0; Win64; x64) AppleWebKit/537.36 (KHTML, like Gecko) Chrome/136.0.0.0 Safari/537.36', 'creationdate': '2025-05-11T02:32:03+00:00', 'source': 'data/Chicago - Wikipedia.pdf', 'file_path': 'data/Chicago - Wikipedia.pdf', 'total_pages': 57, 'format': 'PDF 1.4', 'title': 'Chicago - Wikipedia', 'author': '', 'subject': '', 'keywords': '', 'moddate': '2025-05-11T02:32:03+00:00', 'trapped': '', 'page': 1, '_id': 'db4141ed486a4f4bbe155bdf2902d8e4', '_collection_name': 'usa_city_wiki_chunks'}, page_content='Shoulders.[23]\\nIn the mid-18th century, the area was inhabited by the\\nPotawatomi, an indigenous tribe who had succeeded the Miami,\\nSauk and Meskwaki peoples in this region.[24]\\nThe first known permanent settler in Chicago was a trader Jean\\nBaptiste Point du Sable. Du Sable was of African descent, perhaps\\nborn in the French colony of Saint-Domingue (Haiti), and\\nestablished the settlement in the 1780s. He is commonly known\\nas the \"Founder of Chicago.\"[25][26][27]\\nIn 1795, following the victory of the new United States in the\\nNorthwest Indian War, an area that was to be part of Chicago was\\nturned over to the U.S. for a military post by native tribes in\\naccordance with the Treaty of Greenville. In 1803, the U.S. Army\\nconstructed Fort Dearborn, which was destroyed during the War\\nof 1812 in the Battle of Fort Dearborn by the Potawatomi before\\nbeing later rebuilt.[28]\\nWikimedia | © OpenStreetMap\\nChicago\\nEtymology and nicknames\\nHistory\\nBeginnings\\n5/10/25, 9:32 PM\\nChicago - Wikipedia')]\n"
     ]
    }
   ],
   "source": [
    "user_query = \"Tell me the nicknames of Chicago?\"\n",
    "\n",
    "result = agent.invoke({\"input\": user_query})\n",
    "\n",
    "# Output result logic\n",
    "if result.get(\"tavily_result\"):\n",
    "    print(\"\\n🔎 Answer from Tavily (fallback search):\")\n",
    "    print(result[\"tavily_result\"][\"results\"])\n",
    "else:\n",
    "    print(\"\\n📄 Answer from RAG (your PDFs):\")\n",
    "    print(result[\"rag_result\"][\"answer\"])\n",
    "    print(\"Context used:\", result[\"rag_result\"][\"context\"])"
   ]
  },
  {
   "cell_type": "code",
   "execution_count": 81,
   "metadata": {},
   "outputs": [
    {
     "data": {
      "text/markdown": [
       "### ✅ Update from node: `user_input`"
      ],
      "text/plain": [
       "<IPython.core.display.Markdown object>"
      ]
     },
     "metadata": {},
     "output_type": "display_data"
    },
    {
     "data": {
      "text/markdown": [
       "---"
      ],
      "text/plain": [
       "<IPython.core.display.Markdown object>"
      ]
     },
     "metadata": {},
     "output_type": "display_data"
    },
    {
     "data": {
      "text/markdown": [
       "### ✅ Update from node: `call_rag`"
      ],
      "text/plain": [
       "<IPython.core.display.Markdown object>"
      ]
     },
     "metadata": {},
     "output_type": "display_data"
    },
    {
     "data": {
      "text/markdown": [
       "**📄 RAG Answer:**\n",
       "```\n",
       "content='Chicago has five 50,000 watt AM radio stations: the Audacy-owned WBBM and WSCR; the Tribune Broadcasting-owned WGN; the Cumulus Media-owned WLS; and the ESPN Radio-owned WMVP. Chicago is also home to a number of national radio shows, including \"Beyond the Beltway with Bruce DuMont\" on Sunday evenings. Chicago Public Radio produces nationally aired programs such as PRI\\'s \"This American Life\" and NPR\\'s \"Wait Wait...Don\\'t Tell Me!\".' additional_kwargs={'refusal': None} response_metadata={'token_usage': {'completion_tokens': 102, 'prompt_tokens': 1665, 'total_tokens': 1767, 'completion_tokens_details': {'accepted_prediction_tokens': 0, 'audio_tokens': 0, 'reasoning_tokens': 0, 'rejected_prediction_tokens': 0}, 'prompt_tokens_details': {'audio_tokens': 0, 'cached_tokens': 0}}, 'model_name': 'gpt-4o-mini-2024-07-18', 'system_fingerprint': 'fp_0392822090', 'finish_reason': 'stop', 'logprobs': None} id='run-241bc8cc-af1e-4b7d-967c-9ec3f354c456-0' usage_metadata={'input_tokens': 1665, 'output_tokens': 102, 'total_tokens': 1767, 'input_token_details': {'audio': 0, 'cache_read': 0}, 'output_token_details': {'audio': 0, 'reasoning': 0}}\n",
       "```"
      ],
      "text/plain": [
       "<IPython.core.display.Markdown object>"
      ]
     },
     "metadata": {},
     "output_type": "display_data"
    },
    {
     "data": {
      "text/markdown": [
       "**📄 RAG Context (preview):**\n",
       "```\n",
       "[Document(metadata={'producer': 'Skia/PDF m136', 'creator': 'Mozilla/5.0 (Windows NT 10.0; Win64; x64) AppleWebKit/537.36 (KHTML, like Gecko) Chrome/136.0.0.0 Safari/537.36', 'creationdate': '2025-05-11T02:32:03+00:00', 'source': 'data/Chicago - Wikipedia.pdf', 'file_path': 'data/Chicago - Wikipedia.pdf', 'total_pages': 57, 'format': 'PDF 1.4', 'title': 'Chicago - Wikipedia', 'author': '', 'subject': '', 'keywords': '', 'moddate': '2025-05-11T02:32:03+00:00', 'trapped': '', 'page': 27, '_id': '58b625ca1a394293817b1799a3547ed7', '_collection_name': 'usa_city_wiki_chunks'}, page_content=\"newspaper), the Chicago Reader, the SouthtownStar, the Chicago Defender, the Daily Herald, Newcity,[332][333]\\nStreetWise and the Windy City Times. The entertainment and cultural magazine Time Out Chicago and GRAB\\nmagazine are also published in the city, as well as local music magazine Chicago Innerview. In addition, Chicago\\nis the home of satirical national news outlet, The Onion, as well as its sister pop-culture publication, The A.V.\\nClub.[334]\\nChicago has five 50,000 watt AM radio stations: the Audacy-owned WBBM and WSCR; the Tribune\\nBroadcasting-owned WGN; the Cumulus Media-owned WLS; and the ESPN Radio-owned WMVP. Chicago is also\\nhome to a number of national radio shows, including Beyond the Beltway with Bruce DuMont on Sunday\\nevenings.\\nChicago Public Radio produces nationally aired programs such as PRI's This American Life and NPR's Wait\\nWait...Don't Tell Me!.\\nTelevision stations\\nNewspapers\\nMovies and filming\\nRadio\\n5/10/25, 9:32 PM\\nChicago - Wikipedia\"), Document(metadata={'producer': 'Skia/PDF m136', 'creator': 'Mozilla/5.0 (Windows NT 10.0; Win64; x64) AppleWebKit/537.36 (KHTML, like Gecko) Chrome/136.0.0.0 Safari/537.36', 'creationdate': '2025-05-11T02:32:03+00:00', 'source': 'data/Chicago - Wikipedia.pdf', 'file_path': 'data/Chicago - Wikipedia.pdf', 'total_pages': 57, 'format': 'PDF 1.4', 'title': 'Chicago - Wikipedia', 'author': '', 'subject': '', 'keywords': '', 'moddate': '2025-05-11T02:32:03+00:00', 'trapped': '', 'page': 27, '_id': 'e076dbc7bc9e49919db2d1220df28ebc', '_collection_name': 'usa_city_wiki_chunks'}, page_content=\"Wait...Don't Tell Me!.\\nTelevision stations\\nNewspapers\\nMovies and filming\\nRadio\\n5/10/25, 9:32 PM\\nChicago - Wikipedia\\nhttps://en.wikipedia.org/wiki/Chicago\\n28/57\"), Document(metadata={'producer': 'Skia/PDF m136', 'creator': 'Mozilla/5.0 (Windows NT 10.0; Win64; x64) AppleWebKit/537.36 (KHTML, like Gecko) Chrome/136.0.0.0 Safari/537.36', 'creationdate': '2025-05-11T02:32:03+00:00', 'source': 'data/Chicago - Wikipedia.pdf', 'file_path': 'data/Chicago - Wikipedia.pdf', 'total_pages': 57, 'format': 'PDF 1.4', 'title': 'Chicago - Wikipedia', 'author': '', 'subject': '', 'keywords': '', 'moddate': '2025-05-11T02:32:03+00:00', 'trapped': '', 'page': 26, '_id': 'e8fea11223cd414a98c5d1ad7ddf16ce', '_collection_name': 'usa_city_wiki_chunks'}, page_content=\"Jones Show, and more. The city also has one PBS member station (its\\nsecond: WYCC 20, removed its affiliation with PBS in 2017[331]): WTTW\\n11, producer of shows such as Sneak Previews, The Frugal Gourmet,\\nLamb Chop's Play-Along and The McLaughlin Group. As of 2018, Windy\\nCity Live is Chicago's only daytime talk show, which is hosted by Val\\nWarner and Ryan Chiaverini at ABC7 Studios with a live weekday\\naudience. Since 1999, Judge Mathis also films his syndicated arbitration-\\nbased reality court show at the NBC Tower. Beginning in January 2019,\\nNewsy began producing 12 of its 14 hours of live news programming per day from its new facility in Chicago.\\nMedia\\nTelevision\\n5/10/25, 9:32 PM\\nChicago - Wikipedia\\nhttps://en.wikipedia.org/wiki/Chicago\\n27/57\"), Document(metadata={'producer': 'Skia/PDF m136', 'creator': 'Mozilla/5.0 (Windows NT 10.0; Win64; x64) AppleWebKit/537.36 (KHTML, like Gecko) Chrome/136.0.0.0 Safari/537.36', 'creationdate': '2025-05-11T02:32:03+00:00', 'source': 'data/Chicago - Wikipedia.pdf', 'file_path': 'data/Chicago - Wikipedia.pdf', 'total_pages': 57, 'format': 'PDF 1.4', 'title': 'Chicago - Wikipedia', 'author': '', 'subject': '', 'keywords': '', 'moddate': '2025-05-11T02:32:03+00:00', 'trapped': '', 'page': 26, '_id': '4720df9305814d7485a9dce68e31bec2', '_collection_name': 'usa_city_wiki_chunks'}, page_content='The University of Chicago campus as\\nseen from the Midway Plaisance\\nWGN began in the early days of radio\\nand developed into a multi-platform\\nbroadcaster, including a cable television\\nsuper-station.\\nChicago was home of The Oprah Winfrey\\nShow from 1986 until 2011, and of other\\nHarpo Production operations until 2015.\\nChicago State University; the School of the Art Institute of Chicago; East–\\nWest University; National Louis University; North Park University;\\nNortheastern Illinois University; Robert Morris University Illinois;\\nRoosevelt University; Saint Xavier University; Rush University; and\\nShimer College.[328]\\nWilliam Rainey Harper, the first president of the University of Chicago,\\nwas instrumental in the creation of the junior college concept, establishing\\nnearby Joliet Junior College as the first in the nation in 1901.[329] His\\nlegacy continues with the multiple community colleges in the Chicago\\nproper, including the seven City Colleges of Chicago: Richard J. Daley')]...\n",
       "```"
      ],
      "text/plain": [
       "<IPython.core.display.Markdown object>"
      ]
     },
     "metadata": {},
     "output_type": "display_data"
    },
    {
     "data": {
      "text/markdown": [
       "---"
      ],
      "text/plain": [
       "<IPython.core.display.Markdown object>"
      ]
     },
     "metadata": {},
     "output_type": "display_data"
    }
   ],
   "source": [
    "from IPython.display import display, Markdown\n",
    "\n",
    "# Prepare the input query for testing\n",
    "inputs = {\n",
    "    \"input\": \"Give me details about Radio in Chicago??\"\n",
    "}\n",
    "\n",
    "# Streaming test function for Jupyter\n",
    "async def test_graph_jupyter():\n",
    "    async for chunk in agent.astream(inputs, stream_mode=\"updates\"):\n",
    "        for node, values in chunk.items():\n",
    "            # 1️⃣ Show node update\n",
    "            display(Markdown(f\"### ✅ Update from node: `{node}`\"))\n",
    "\n",
    "            # 2️⃣ Show rag_tool result if exists\n",
    "            if \"rag_result\" in values and values[\"rag_result\"]:\n",
    "                answer = values[\"rag_result\"].get(\"answer\", \"\")\n",
    "                context = values[\"rag_result\"].get(\"context\", \"\")\n",
    "                display(Markdown(f\"**📄 RAG Answer:**\\n```\\n{answer}\\n```\"))\n",
    "                display(Markdown(f\"**📄 RAG Context (preview):**\\n```\\n{context[:500]}...\\n```\"))\n",
    "\n",
    "            # 3️⃣ Show tavily_tool result if exists\n",
    "            if \"tavily_result\" in values and values[\"tavily_result\"]:\n",
    "                display(Markdown(f\"**🔎 Tavily Results:**\"))\n",
    "                results = values[\"tavily_result\"].get(\"results\", [])\n",
    "                for i, item in enumerate(results[:3]):   # limit to 3 results\n",
    "                    title = item.get(\"title\", \"\")\n",
    "                    url = item.get(\"url\", \"\")\n",
    "                    content = item.get(\"content\", \"\")\n",
    "                    display(Markdown(f\"**Result {i+1}:** [{title}]({url})\\n\\n```\\n{content[:300]}...\\n```\"))\n",
    "\n",
    "            # 4️⃣ Divider\n",
    "            display(Markdown(\"---\"))\n",
    "\n",
    "# 🚀 Run this inside a Jupyter notebook cell\n",
    "await test_graph_jupyter()\n"
   ]
  },
  {
   "cell_type": "markdown",
   "metadata": {},
   "source": [
    "RAGAS SGD and LangSmith Evalution"
   ]
  },
  {
   "cell_type": "code",
   "execution_count": null,
   "metadata": {},
   "outputs": [],
   "source": [
    "# Path to the data folder\n",
    "data_folder = 'data'\n",
    "pdf_files = [os.path.join(data_folder, f) for f in os.listdir(data_folder) if f.endswith('.pdf')]\n",
    "\n",
    "# Load all PDFs\n",
    "all_docs1 = []\n",
    "for pdf_file in pdf_files:\n",
    "    loader = PyMuPDFLoader(pdf_file)\n",
    "    docs1 = loader.load()\n",
    "    all_docs1.extend(docs1)"
   ]
  },
  {
   "cell_type": "code",
   "execution_count": null,
   "metadata": {},
   "outputs": [],
   "source": [
    "### YOUR CODE HERE\n",
    "from ragas.llms import LangchainLLMWrapper\n",
    "from ragas.embeddings import LangchainEmbeddingsWrapper\n",
    "from langchain_openai import ChatOpenAI\n",
    "from langchain_openai import OpenAIEmbeddings\n",
    "from ragas.testset import TestsetGenerator\n",
    "\n",
    "generator_llm = LangchainLLMWrapper(ChatOpenAI(model=\"gpt-4.1-mini\"))\n",
    "generator_embeddings = LangchainEmbeddingsWrapper(OpenAIEmbeddings(model=\"text-embedding-3-small\"))\n",
    "sgd_generator = TestsetGenerator(llm = generator_llm, embedding_model=generator_embeddings)\n",
    "sgd_dataset = sgd_generator.generate_with_langchain_docs(all_docs1, testset_size=10)"
   ]
  },
  {
   "cell_type": "code",
   "execution_count": null,
   "metadata": {},
   "outputs": [],
   "source": [
    "original_sgd_dataset = sgd_dataset"
   ]
  },
  {
   "cell_type": "code",
   "execution_count": null,
   "metadata": {},
   "outputs": [],
   "source": [
    "sgd_dataset.to_pandas()"
   ]
  },
  {
   "cell_type": "code",
   "execution_count": null,
   "metadata": {},
   "outputs": [],
   "source": [
    "from langsmith import Client\n",
    "\n",
    "client = Client()\n",
    "\n",
    "dataset_name = \"AIE6 Certification Challenge RAG Evaluation 2\"\n",
    "\n",
    "langsmith_dataset = client.create_dataset(\n",
    "    dataset_name=dataset_name,\n",
    "    description=\"AIE6 Certification Challenge RAG Evaluation 2\"\n",
    ")"
   ]
  },
  {
   "cell_type": "code",
   "execution_count": null,
   "metadata": {},
   "outputs": [],
   "source": [
    "for data_row in sgd_dataset.to_pandas().iterrows():\n",
    "  client.create_example(\n",
    "      inputs={\n",
    "          \"question\": data_row[1][\"user_input\"]\n",
    "      },\n",
    "      outputs={\n",
    "          \"answer\": data_row[1][\"reference\"]\n",
    "      },\n",
    "      metadata={\n",
    "          \"context\": data_row[1][\"reference_contexts\"]\n",
    "      },\n",
    "      dataset_id=langsmith_dataset.id\n",
    "  )"
   ]
  },
  {
   "cell_type": "code",
   "execution_count": null,
   "metadata": {},
   "outputs": [],
   "source": [
    "eval_llm = ChatOpenAI(model=\"gpt-4.1\")"
   ]
  },
  {
   "cell_type": "code",
   "execution_count": null,
   "metadata": {},
   "outputs": [],
   "source": [
    "from langsmith.evaluation import LangChainStringEvaluator, evaluate\n",
    "\n",
    "qa_evaluator = LangChainStringEvaluator(\"qa\", config={\"llm\" : eval_llm})\n",
    "\n",
    "labeled_helpfulness_evaluator = LangChainStringEvaluator(\n",
    "    \"labeled_criteria\",\n",
    "    config={\n",
    "        \"criteria\": {\n",
    "            \"helpfulness\": (\n",
    "                \"Is this submission helpful to the user,\"\n",
    "                \" taking into account the correct reference answer?\"\n",
    "            )\n",
    "        },\n",
    "        \"llm\" : eval_llm\n",
    "    },\n",
    "    prepare_data=lambda run, example: {\n",
    "        \"prediction\": run.outputs[\"output\"],\n",
    "        \"reference\": example.outputs[\"answer\"],\n",
    "        \"input\": example.inputs[\"question\"],\n",
    "    }\n",
    ")\n"
   ]
  },
  {
   "cell_type": "code",
   "execution_count": null,
   "metadata": {},
   "outputs": [],
   "source": [
    "def wrapped_react_graph(input_obj):\n",
    "    question = input_obj[\"question\"]  # ✅ safe extraction\n",
    "    state = graph.invoke({\"messages\": [HumanMessage(content=question)]})\n",
    "    assistant_messages = [m.content for m in state[\"messages\"] if isinstance(m, AIMessage)]\n",
    "    return {\"output\": assistant_messages[-1] if assistant_messages else \"\"}\n"
   ]
  },
  {
   "cell_type": "code",
   "execution_count": null,
   "metadata": {},
   "outputs": [],
   "source": [
    "evaluate(\n",
    "    wrapped_react_graph,        # ✅ not react_graph.invoke\n",
    "    data=dataset_name,\n",
    "    evaluators=[\n",
    "        qa_evaluator,\n",
    "        labeled_helpfulness_evaluator\n",
    "    ],\n",
    "    metadata={\"revision_id\": \"default_chain_init\"},\n",
    ")\n"
   ]
  },
  {
   "cell_type": "markdown",
   "metadata": {},
   "source": [
    "Fine Tunning Embeddings"
   ]
  },
  {
   "cell_type": "code",
   "execution_count": 82,
   "metadata": {},
   "outputs": [],
   "source": []
  },
  {
   "cell_type": "code",
   "execution_count": 84,
   "metadata": {},
   "outputs": [
    {
     "name": "stdout",
     "output_type": "stream",
     "text": [
      "Total split documents: 1477\n"
     ]
    }
   ],
   "source": []
  },
  {
   "cell_type": "code",
   "execution_count": 85,
   "metadata": {},
   "outputs": [],
   "source": []
  },
  {
   "cell_type": "code",
   "execution_count": 86,
   "metadata": {},
   "outputs": [],
   "source": []
  },
  {
   "cell_type": "code",
   "execution_count": 87,
   "metadata": {},
   "outputs": [],
   "source": []
  },
  {
   "cell_type": "code",
   "execution_count": 88,
   "metadata": {},
   "outputs": [],
   "source": []
  },
  {
   "cell_type": "code",
   "execution_count": 89,
   "metadata": {},
   "outputs": [],
   "source": []
  },
  {
   "cell_type": "code",
   "execution_count": 90,
   "metadata": {},
   "outputs": [],
   "source": []
  },
  {
   "cell_type": "code",
   "execution_count": 91,
   "metadata": {},
   "outputs": [],
   "source": []
  },
  {
   "cell_type": "code",
   "execution_count": 92,
   "metadata": {},
   "outputs": [
    {
     "name": "stderr",
     "output_type": "stream",
     "text": [
      "Generating questions: 100%|██████████| 1181/1181 [30:00<00:00,  1.52s/it] \n"
     ]
    }
   ],
   "source": []
  },
  {
   "cell_type": "code",
   "execution_count": 93,
   "metadata": {},
   "outputs": [
    {
     "name": "stderr",
     "output_type": "stream",
     "text": [
      "Generating questions: 100%|██████████| 148/148 [03:29<00:00,  1.41s/it]\n"
     ]
    }
   ],
   "source": []
  },
  {
   "cell_type": "code",
   "execution_count": 94,
   "metadata": {},
   "outputs": [
    {
     "name": "stderr",
     "output_type": "stream",
     "text": [
      "Generating questions: 100%|██████████| 148/148 [03:26<00:00,  1.40s/it]\n"
     ]
    }
   ],
   "source": []
  },
  {
   "cell_type": "code",
   "execution_count": 6,
   "metadata": {},
   "outputs": [
    {
     "ename": "NameError",
     "evalue": "name 'training_split_documents' is not defined",
     "output_type": "error",
     "traceback": [
      "\u001b[0;31m---------------------------------------------------------------------------\u001b[0m",
      "\u001b[0;31mNameError\u001b[0m                                 Traceback (most recent call last)",
      "Cell \u001b[0;32mIn[6], line 3\u001b[0m\n\u001b[1;32m      1\u001b[0m \u001b[38;5;28;01mimport\u001b[39;00m\u001b[38;5;250m \u001b[39m\u001b[38;5;21;01mjson\u001b[39;00m\n\u001b[0;32m----> 3\u001b[0m training_corpus \u001b[38;5;241m=\u001b[39m {train_item\u001b[38;5;241m.\u001b[39mmetadata[\u001b[38;5;124m\"\u001b[39m\u001b[38;5;124mid\u001b[39m\u001b[38;5;124m\"\u001b[39m] : train_item\u001b[38;5;241m.\u001b[39mpage_content \u001b[38;5;28;01mfor\u001b[39;00m train_item \u001b[38;5;129;01min\u001b[39;00m \u001b[43mtraining_split_documents\u001b[49m}\n\u001b[1;32m      5\u001b[0m train_dataset \u001b[38;5;241m=\u001b[39m {\n\u001b[1;32m      6\u001b[0m     \u001b[38;5;124m\"\u001b[39m\u001b[38;5;124mquestions\u001b[39m\u001b[38;5;124m\"\u001b[39m : training_questions,\n\u001b[1;32m      7\u001b[0m     \u001b[38;5;124m\"\u001b[39m\u001b[38;5;124mrelevant_contexts\u001b[39m\u001b[38;5;124m\"\u001b[39m : training_relevant_contexts,\n\u001b[1;32m      8\u001b[0m     \u001b[38;5;124m\"\u001b[39m\u001b[38;5;124mcorpus\u001b[39m\u001b[38;5;124m\"\u001b[39m : training_corpus\n\u001b[1;32m      9\u001b[0m }\n\u001b[1;32m     11\u001b[0m \u001b[38;5;28;01mwith\u001b[39;00m \u001b[38;5;28mopen\u001b[39m(\u001b[38;5;124m\"\u001b[39m\u001b[38;5;124mtraining_dataset.jsonl\u001b[39m\u001b[38;5;124m\"\u001b[39m, \u001b[38;5;124m\"\u001b[39m\u001b[38;5;124mw\u001b[39m\u001b[38;5;124m\"\u001b[39m) \u001b[38;5;28;01mas\u001b[39;00m f:\n",
      "\u001b[0;31mNameError\u001b[0m: name 'training_split_documents' is not defined"
     ]
    }
   ],
   "source": []
  },
  {
   "cell_type": "code",
   "execution_count": 96,
   "metadata": {},
   "outputs": [],
   "source": []
  },
  {
   "cell_type": "code",
   "execution_count": 97,
   "metadata": {},
   "outputs": [],
   "source": []
  },
  {
   "cell_type": "code",
   "execution_count": null,
   "metadata": {},
   "outputs": [],
   "source": []
  },
  {
   "cell_type": "code",
   "execution_count": 2,
   "metadata": {},
   "outputs": [],
   "source": []
  },
  {
   "cell_type": "code",
   "execution_count": 3,
   "metadata": {},
   "outputs": [],
   "source": [
    "8"
   ]
  },
  {
   "cell_type": "code",
   "execution_count": null,
   "metadata": {},
   "outputs": [
    {
     "ename": "NameError",
     "evalue": "name 'train_dataset' is not defined",
     "output_type": "error",
     "traceback": [
      "\u001b[0;31m---------------------------------------------------------------------------\u001b[0m",
      "\u001b[0;31mNameError\u001b[0m                                 Traceback (most recent call last)",
      "Cell \u001b[0;32mIn[5], line 1\u001b[0m\n\u001b[0;32m----> 1\u001b[0m corpus \u001b[38;5;241m=\u001b[39m \u001b[43mtrain_dataset\u001b[49m[\u001b[38;5;124m'\u001b[39m\u001b[38;5;124mcorpus\u001b[39m\u001b[38;5;124m'\u001b[39m]\n\u001b[1;32m      2\u001b[0m queries \u001b[38;5;241m=\u001b[39m train_dataset[\u001b[38;5;124m'\u001b[39m\u001b[38;5;124mquestions\u001b[39m\u001b[38;5;124m'\u001b[39m]\n\u001b[1;32m      3\u001b[0m relevant_docs \u001b[38;5;241m=\u001b[39m train_dataset[\u001b[38;5;124m'\u001b[39m\u001b[38;5;124mrelevant_contexts\u001b[39m\u001b[38;5;124m'\u001b[39m]\n",
      "\u001b[0;31mNameError\u001b[0m: name 'train_dataset' is not defined"
     ]
    }
   ],
   "source": []
  },
  {
   "cell_type": "code",
   "execution_count": 116,
   "metadata": {},
   "outputs": [],
   "source": []
  },
  {
   "cell_type": "code",
   "execution_count": 117,
   "metadata": {},
   "outputs": [],
   "source": []
  },
  {
   "cell_type": "code",
   "execution_count": 118,
   "metadata": {},
   "outputs": [],
   "source": []
  },
  {
   "cell_type": "code",
   "execution_count": 119,
   "metadata": {},
   "outputs": [],
   "source": []
  },
  {
   "cell_type": "code",
   "execution_count": 120,
   "metadata": {},
   "outputs": [
    {
     "data": {
      "text/html": [
       "Changes to your `wandb` environment variables will be ignored because your `wandb` session has already started. For more information on how to modify your settings with `wandb.init()` arguments, please refer to <a href='https://wandb.me/wandb-init' target=\"_blank\">the W&B docs</a>."
      ],
      "text/plain": [
       "<IPython.core.display.HTML object>"
      ]
     },
     "metadata": {},
     "output_type": "display_data"
    },
    {
     "data": {
      "text/html": [
       "<button onClick=\"this.nextSibling.style.display='block';this.style.display='none';\">Display W&B run</button><iframe src='https://wandb.ai/dummy/dummy/runs/9ymzlqh5?jupyter=true' style='border:none;width:100%;height:420px;display:none;'></iframe>"
      ],
      "text/plain": [
       "<wandb.sdk.wandb_run.Run at 0x7f5538930910>"
      ]
     },
     "execution_count": 120,
     "metadata": {},
     "output_type": "execute_result"
    }
   ],
   "source": []
  },
  {
   "cell_type": "code",
   "execution_count": 121,
   "metadata": {},
   "outputs": [
    {
     "ename": "RuntimeError",
     "evalue": "CUDA error: out of memory\nCUDA kernel errors might be asynchronously reported at some other API call, so the stacktrace below might be incorrect.\nFor debugging consider passing CUDA_LAUNCH_BLOCKING=1\nCompile with `TORCH_USE_CUDA_DSA` to enable device-side assertions.\n",
     "output_type": "error",
     "traceback": [
      "\u001b[0;31m---------------------------------------------------------------------------\u001b[0m",
      "\u001b[0;31mRuntimeError\u001b[0m                              Traceback (most recent call last)",
      "Cell \u001b[0;32mIn[121], line 3\u001b[0m\n\u001b[1;32m      1\u001b[0m warmup_steps \u001b[38;5;241m=\u001b[39m \u001b[38;5;28mint\u001b[39m(\u001b[38;5;28mlen\u001b[39m(loader) \u001b[38;5;241m*\u001b[39m EPOCHS \u001b[38;5;241m*\u001b[39m \u001b[38;5;241m0.1\u001b[39m)\n\u001b[0;32m----> 3\u001b[0m \u001b[43mmodel\u001b[49m\u001b[38;5;241;43m.\u001b[39;49m\u001b[43mfit\u001b[49m\u001b[43m(\u001b[49m\n\u001b[1;32m      4\u001b[0m \u001b[43m    \u001b[49m\u001b[43mtrain_objectives\u001b[49m\u001b[38;5;241;43m=\u001b[39;49m\u001b[43m[\u001b[49m\u001b[43m(\u001b[49m\u001b[43mloader\u001b[49m\u001b[43m,\u001b[49m\u001b[43m \u001b[49m\u001b[43mtrain_loss\u001b[49m\u001b[43m)\u001b[49m\u001b[43m]\u001b[49m\u001b[43m,\u001b[49m\n\u001b[1;32m      5\u001b[0m \u001b[43m    \u001b[49m\u001b[43mepochs\u001b[49m\u001b[38;5;241;43m=\u001b[39;49m\u001b[43mEPOCHS\u001b[49m\u001b[43m,\u001b[49m\n\u001b[1;32m      6\u001b[0m \u001b[43m    \u001b[49m\u001b[43mwarmup_steps\u001b[49m\u001b[38;5;241;43m=\u001b[39;49m\u001b[43mwarmup_steps\u001b[49m\u001b[43m,\u001b[49m\n\u001b[1;32m      7\u001b[0m \u001b[43m    \u001b[49m\u001b[43moutput_path\u001b[49m\u001b[38;5;241;43m=\u001b[39;49m\u001b[38;5;124;43m'\u001b[39;49m\u001b[38;5;124;43mfinetuned_arctic_FT\u001b[39;49m\u001b[38;5;124;43m'\u001b[39;49m\u001b[43m,\u001b[49m\n\u001b[1;32m      8\u001b[0m \u001b[43m    \u001b[49m\u001b[43mshow_progress_bar\u001b[49m\u001b[38;5;241;43m=\u001b[39;49m\u001b[38;5;28;43;01mTrue\u001b[39;49;00m\u001b[43m,\u001b[49m\n\u001b[1;32m      9\u001b[0m \u001b[43m    \u001b[49m\u001b[43mevaluator\u001b[49m\u001b[38;5;241;43m=\u001b[39;49m\u001b[43mevaluator\u001b[49m\u001b[43m,\u001b[49m\n\u001b[1;32m     10\u001b[0m \u001b[43m    \u001b[49m\u001b[43mevaluation_steps\u001b[49m\u001b[38;5;241;43m=\u001b[39;49m\u001b[38;5;241;43m50\u001b[39;49m\n\u001b[1;32m     11\u001b[0m \u001b[43m)\u001b[49m\n",
      "File \u001b[0;32m~/git_repo/AIE6/11_midterm_challenge_sql_rag_agent/.venv/lib/python3.10/site-packages/sentence_transformers/fit_mixin.py:369\u001b[0m, in \u001b[0;36mFitMixin.fit\u001b[0;34m(self, train_objectives, evaluator, epochs, steps_per_epoch, scheduler, warmup_steps, optimizer_class, optimizer_params, weight_decay, evaluation_steps, output_path, save_best_model, max_grad_norm, use_amp, callback, show_progress_bar, checkpoint_path, checkpoint_save_steps, checkpoint_save_total_limit, resume_from_checkpoint)\u001b[0m\n\u001b[1;32m    366\u001b[0m     \u001b[38;5;28;01mif\u001b[39;00m callback \u001b[38;5;129;01mis\u001b[39;00m \u001b[38;5;129;01mnot\u001b[39;00m \u001b[38;5;28;01mNone\u001b[39;00m:\n\u001b[1;32m    367\u001b[0m         callbacks\u001b[38;5;241m.\u001b[39mappend(OriginalCallback(callback, evaluator))\n\u001b[0;32m--> 369\u001b[0m trainer \u001b[38;5;241m=\u001b[39m \u001b[43mSentenceTransformerTrainer\u001b[49m\u001b[43m(\u001b[49m\n\u001b[1;32m    370\u001b[0m \u001b[43m    \u001b[49m\u001b[43mmodel\u001b[49m\u001b[38;5;241;43m=\u001b[39;49m\u001b[38;5;28;43mself\u001b[39;49m\u001b[43m,\u001b[49m\n\u001b[1;32m    371\u001b[0m \u001b[43m    \u001b[49m\u001b[43margs\u001b[49m\u001b[38;5;241;43m=\u001b[39;49m\u001b[43margs\u001b[49m\u001b[43m,\u001b[49m\n\u001b[1;32m    372\u001b[0m \u001b[43m    \u001b[49m\u001b[43mtrain_dataset\u001b[49m\u001b[38;5;241;43m=\u001b[39;49m\u001b[43mtrain_dataset_dict\u001b[49m\u001b[43m,\u001b[49m\n\u001b[1;32m    373\u001b[0m \u001b[43m    \u001b[49m\u001b[43meval_dataset\u001b[49m\u001b[38;5;241;43m=\u001b[39;49m\u001b[38;5;28;43;01mNone\u001b[39;49;00m\u001b[43m,\u001b[49m\n\u001b[1;32m    374\u001b[0m \u001b[43m    \u001b[49m\u001b[43mloss\u001b[49m\u001b[38;5;241;43m=\u001b[39;49m\u001b[43mloss_fn_dict\u001b[49m\u001b[43m,\u001b[49m\n\u001b[1;32m    375\u001b[0m \u001b[43m    \u001b[49m\u001b[43mevaluator\u001b[49m\u001b[38;5;241;43m=\u001b[39;49m\u001b[43mevaluator\u001b[49m\u001b[43m,\u001b[49m\n\u001b[1;32m    376\u001b[0m \u001b[43m    \u001b[49m\u001b[43moptimizers\u001b[49m\u001b[38;5;241;43m=\u001b[39;49m\u001b[43m(\u001b[49m\u001b[43moptimizer\u001b[49m\u001b[43m,\u001b[49m\u001b[43m \u001b[49m\u001b[43mscheduler_obj\u001b[49m\u001b[43m)\u001b[49m\u001b[43m,\u001b[49m\n\u001b[1;32m    377\u001b[0m \u001b[43m    \u001b[49m\u001b[43mcallbacks\u001b[49m\u001b[38;5;241;43m=\u001b[39;49m\u001b[43mcallbacks\u001b[49m\u001b[43m,\u001b[49m\n\u001b[1;32m    378\u001b[0m \u001b[43m\u001b[49m\u001b[43m)\u001b[49m\n\u001b[1;32m    379\u001b[0m \u001b[38;5;66;03m# Set the trainer on the EvaluatorCallback, required for logging the metrics\u001b[39;00m\n\u001b[1;32m    380\u001b[0m \u001b[38;5;28;01mfor\u001b[39;00m callback \u001b[38;5;129;01min\u001b[39;00m trainer\u001b[38;5;241m.\u001b[39mcallback_handler\u001b[38;5;241m.\u001b[39mcallbacks:\n",
      "File \u001b[0;32m~/git_repo/AIE6/11_midterm_challenge_sql_rag_agent/.venv/lib/python3.10/site-packages/sentence_transformers/trainer.py:242\u001b[0m, in \u001b[0;36mSentenceTransformerTrainer.__init__\u001b[0;34m(self, model, args, train_dataset, eval_dataset, loss, evaluator, data_collator, tokenizer, model_init, compute_metrics, callbacks, optimizers, preprocess_logits_for_metrics)\u001b[0m\n\u001b[1;32m    235\u001b[0m \u001b[38;5;28;01mif\u001b[39;00m eval_dataset \u001b[38;5;129;01mis\u001b[39;00m \u001b[38;5;28;01mNone\u001b[39;00m \u001b[38;5;129;01mand\u001b[39;00m evaluator \u001b[38;5;129;01mis\u001b[39;00m \u001b[38;5;28;01mNone\u001b[39;00m \u001b[38;5;129;01mand\u001b[39;00m args\u001b[38;5;241m.\u001b[39meval_strategy \u001b[38;5;241m!=\u001b[39m \u001b[38;5;124m\"\u001b[39m\u001b[38;5;124mno\u001b[39m\u001b[38;5;124m\"\u001b[39m:\n\u001b[1;32m    236\u001b[0m     \u001b[38;5;28;01mraise\u001b[39;00m \u001b[38;5;167;01mValueError\u001b[39;00m(\n\u001b[1;32m    237\u001b[0m         \u001b[38;5;124mf\u001b[39m\u001b[38;5;124m\"\u001b[39m\u001b[38;5;124mYou have set `args.eval_strategy` to \u001b[39m\u001b[38;5;132;01m{\u001b[39;00margs\u001b[38;5;241m.\u001b[39meval_strategy\u001b[38;5;132;01m}\u001b[39;00m\u001b[38;5;124m, but you didn\u001b[39m\u001b[38;5;124m'\u001b[39m\u001b[38;5;124mt provide an `eval_dataset` or an `evaluator`. \u001b[39m\u001b[38;5;124m\"\u001b[39m\n\u001b[1;32m    238\u001b[0m         \u001b[38;5;124m\"\u001b[39m\u001b[38;5;124mEither provide an `eval_dataset` or an `evaluator` to `SentenceTransformerTrainer`, \u001b[39m\u001b[38;5;124m\"\u001b[39m\n\u001b[1;32m    239\u001b[0m         \u001b[38;5;124m\"\u001b[39m\u001b[38;5;124mor set `args.eval_strategy=\u001b[39m\u001b[38;5;124m'\u001b[39m\u001b[38;5;124mno\u001b[39m\u001b[38;5;124m'\u001b[39m\u001b[38;5;124m` to skip evaluation.\u001b[39m\u001b[38;5;124m\"\u001b[39m\n\u001b[1;32m    240\u001b[0m     )\n\u001b[0;32m--> 242\u001b[0m \u001b[38;5;28;43msuper\u001b[39;49m\u001b[43m(\u001b[49m\u001b[43m)\u001b[49m\u001b[38;5;241;43m.\u001b[39;49m\u001b[38;5;21;43m__init__\u001b[39;49m\u001b[43m(\u001b[49m\u001b[38;5;241;43m*\u001b[39;49m\u001b[38;5;241;43m*\u001b[39;49m\u001b[43msuper_kwargs\u001b[49m\u001b[43m)\u001b[49m\n\u001b[1;32m    243\u001b[0m \u001b[38;5;66;03m# If the eval_dataset is \"dummy\", then we set it back to None\u001b[39;00m\n\u001b[1;32m    244\u001b[0m \u001b[38;5;28;01mif\u001b[39;00m \u001b[38;5;28mself\u001b[39m\u001b[38;5;241m.\u001b[39meval_dataset \u001b[38;5;241m==\u001b[39m \u001b[38;5;124m\"\u001b[39m\u001b[38;5;124mdummy\u001b[39m\u001b[38;5;124m\"\u001b[39m:\n",
      "File \u001b[0;32m~/git_repo/AIE6/11_midterm_challenge_sql_rag_agent/.venv/lib/python3.10/site-packages/transformers/utils/deprecation.py:172\u001b[0m, in \u001b[0;36mdeprecate_kwarg.<locals>.wrapper.<locals>.wrapped_func\u001b[0;34m(*args, **kwargs)\u001b[0m\n\u001b[1;32m    168\u001b[0m \u001b[38;5;28;01melif\u001b[39;00m minimum_action \u001b[38;5;129;01min\u001b[39;00m (Action\u001b[38;5;241m.\u001b[39mNOTIFY, Action\u001b[38;5;241m.\u001b[39mNOTIFY_ALWAYS) \u001b[38;5;129;01mand\u001b[39;00m \u001b[38;5;129;01mnot\u001b[39;00m is_torchdynamo_compiling():\n\u001b[1;32m    169\u001b[0m     \u001b[38;5;66;03m# DeprecationWarning is ignored by default, so we use FutureWarning instead\u001b[39;00m\n\u001b[1;32m    170\u001b[0m     warnings\u001b[38;5;241m.\u001b[39mwarn(message, \u001b[38;5;167;01mFutureWarning\u001b[39;00m, stacklevel\u001b[38;5;241m=\u001b[39m\u001b[38;5;241m2\u001b[39m)\n\u001b[0;32m--> 172\u001b[0m \u001b[38;5;28;01mreturn\u001b[39;00m \u001b[43mfunc\u001b[49m\u001b[43m(\u001b[49m\u001b[38;5;241;43m*\u001b[39;49m\u001b[43margs\u001b[49m\u001b[43m,\u001b[49m\u001b[43m \u001b[49m\u001b[38;5;241;43m*\u001b[39;49m\u001b[38;5;241;43m*\u001b[39;49m\u001b[43mkwargs\u001b[49m\u001b[43m)\u001b[49m\n",
      "File \u001b[0;32m~/git_repo/AIE6/11_midterm_challenge_sql_rag_agent/.venv/lib/python3.10/site-packages/transformers/trainer.py:457\u001b[0m, in \u001b[0;36mTrainer.__init__\u001b[0;34m(self, model, args, data_collator, train_dataset, eval_dataset, processing_class, model_init, compute_loss_func, compute_metrics, callbacks, optimizers, optimizer_cls_and_kwargs, preprocess_logits_for_metrics)\u001b[0m\n\u001b[1;32m    455\u001b[0m \u001b[38;5;28mself\u001b[39m\u001b[38;5;241m.\u001b[39mcompute_loss_func \u001b[38;5;241m=\u001b[39m compute_loss_func\n\u001b[1;32m    456\u001b[0m \u001b[38;5;66;03m# Seed must be set before instantiating the model when using model\u001b[39;00m\n\u001b[0;32m--> 457\u001b[0m enable_full_determinism(\u001b[38;5;28mself\u001b[39m\u001b[38;5;241m.\u001b[39margs\u001b[38;5;241m.\u001b[39mseed) \u001b[38;5;28;01mif\u001b[39;00m \u001b[38;5;28mself\u001b[39m\u001b[38;5;241m.\u001b[39margs\u001b[38;5;241m.\u001b[39mfull_determinism \u001b[38;5;28;01melse\u001b[39;00m \u001b[43mset_seed\u001b[49m\u001b[43m(\u001b[49m\u001b[38;5;28;43mself\u001b[39;49m\u001b[38;5;241;43m.\u001b[39;49m\u001b[43margs\u001b[49m\u001b[38;5;241;43m.\u001b[39;49m\u001b[43mseed\u001b[49m\u001b[43m)\u001b[49m\n\u001b[1;32m    459\u001b[0m \u001b[38;5;28mself\u001b[39m\u001b[38;5;241m.\u001b[39mhp_name \u001b[38;5;241m=\u001b[39m \u001b[38;5;28;01mNone\u001b[39;00m\n\u001b[1;32m    460\u001b[0m \u001b[38;5;28mself\u001b[39m\u001b[38;5;241m.\u001b[39mdeepspeed \u001b[38;5;241m=\u001b[39m \u001b[38;5;28;01mNone\u001b[39;00m\n",
      "File \u001b[0;32m~/git_repo/AIE6/11_midterm_challenge_sql_rag_agent/.venv/lib/python3.10/site-packages/transformers/trainer_utils.py:105\u001b[0m, in \u001b[0;36mset_seed\u001b[0;34m(seed, deterministic)\u001b[0m\n\u001b[1;32m    103\u001b[0m np\u001b[38;5;241m.\u001b[39mrandom\u001b[38;5;241m.\u001b[39mseed(seed)\n\u001b[1;32m    104\u001b[0m \u001b[38;5;28;01mif\u001b[39;00m is_torch_available():\n\u001b[0;32m--> 105\u001b[0m     \u001b[43mtorch\u001b[49m\u001b[38;5;241;43m.\u001b[39;49m\u001b[43mmanual_seed\u001b[49m\u001b[43m(\u001b[49m\u001b[43mseed\u001b[49m\u001b[43m)\u001b[49m\n\u001b[1;32m    106\u001b[0m     torch\u001b[38;5;241m.\u001b[39mcuda\u001b[38;5;241m.\u001b[39mmanual_seed_all(seed)\n\u001b[1;32m    107\u001b[0m     \u001b[38;5;66;03m# ^^ safe to call this function even if cuda is not available\u001b[39;00m\n",
      "File \u001b[0;32m~/git_repo/AIE6/11_midterm_challenge_sql_rag_agent/.venv/lib/python3.10/site-packages/torch/_compile.py:51\u001b[0m, in \u001b[0;36m_disable_dynamo.<locals>.inner\u001b[0;34m(*args, **kwargs)\u001b[0m\n\u001b[1;32m     48\u001b[0m     disable_fn \u001b[38;5;241m=\u001b[39m torch\u001b[38;5;241m.\u001b[39m_dynamo\u001b[38;5;241m.\u001b[39mdisable(fn, recursive)\n\u001b[1;32m     49\u001b[0m     fn\u001b[38;5;241m.\u001b[39m__dynamo_disable \u001b[38;5;241m=\u001b[39m disable_fn  \u001b[38;5;66;03m# type: ignore[attr-defined]\u001b[39;00m\n\u001b[0;32m---> 51\u001b[0m \u001b[38;5;28;01mreturn\u001b[39;00m \u001b[43mdisable_fn\u001b[49m\u001b[43m(\u001b[49m\u001b[38;5;241;43m*\u001b[39;49m\u001b[43margs\u001b[49m\u001b[43m,\u001b[49m\u001b[43m \u001b[49m\u001b[38;5;241;43m*\u001b[39;49m\u001b[38;5;241;43m*\u001b[39;49m\u001b[43mkwargs\u001b[49m\u001b[43m)\u001b[49m\n",
      "File \u001b[0;32m~/git_repo/AIE6/11_midterm_challenge_sql_rag_agent/.venv/lib/python3.10/site-packages/torch/_dynamo/eval_frame.py:838\u001b[0m, in \u001b[0;36mDisableContext.__call__.<locals>._fn\u001b[0;34m(*args, **kwargs)\u001b[0m\n\u001b[1;32m    836\u001b[0m _maybe_set_eval_frame(_callback_from_stance(\u001b[38;5;28mself\u001b[39m\u001b[38;5;241m.\u001b[39mcallback))\n\u001b[1;32m    837\u001b[0m \u001b[38;5;28;01mtry\u001b[39;00m:\n\u001b[0;32m--> 838\u001b[0m     \u001b[38;5;28;01mreturn\u001b[39;00m \u001b[43mfn\u001b[49m\u001b[43m(\u001b[49m\u001b[38;5;241;43m*\u001b[39;49m\u001b[43margs\u001b[49m\u001b[43m,\u001b[49m\u001b[43m \u001b[49m\u001b[38;5;241;43m*\u001b[39;49m\u001b[38;5;241;43m*\u001b[39;49m\u001b[43mkwargs\u001b[49m\u001b[43m)\u001b[49m\n\u001b[1;32m    839\u001b[0m \u001b[38;5;28;01mfinally\u001b[39;00m:\n\u001b[1;32m    840\u001b[0m     set_eval_frame(\u001b[38;5;28;01mNone\u001b[39;00m)\n",
      "File \u001b[0;32m~/git_repo/AIE6/11_midterm_challenge_sql_rag_agent/.venv/lib/python3.10/site-packages/torch/random.py:46\u001b[0m, in \u001b[0;36mmanual_seed\u001b[0;34m(seed)\u001b[0m\n\u001b[1;32m     43\u001b[0m \u001b[38;5;28;01mimport\u001b[39;00m\u001b[38;5;250m \u001b[39m\u001b[38;5;21;01mtorch\u001b[39;00m\u001b[38;5;21;01m.\u001b[39;00m\u001b[38;5;21;01mcuda\u001b[39;00m\n\u001b[1;32m     45\u001b[0m \u001b[38;5;28;01mif\u001b[39;00m \u001b[38;5;129;01mnot\u001b[39;00m torch\u001b[38;5;241m.\u001b[39mcuda\u001b[38;5;241m.\u001b[39m_is_in_bad_fork():\n\u001b[0;32m---> 46\u001b[0m     \u001b[43mtorch\u001b[49m\u001b[38;5;241;43m.\u001b[39;49m\u001b[43mcuda\u001b[49m\u001b[38;5;241;43m.\u001b[39;49m\u001b[43mmanual_seed_all\u001b[49m\u001b[43m(\u001b[49m\u001b[43mseed\u001b[49m\u001b[43m)\u001b[49m\n\u001b[1;32m     48\u001b[0m \u001b[38;5;28;01mimport\u001b[39;00m\u001b[38;5;250m \u001b[39m\u001b[38;5;21;01mtorch\u001b[39;00m\u001b[38;5;21;01m.\u001b[39;00m\u001b[38;5;21;01mmps\u001b[39;00m\n\u001b[1;32m     50\u001b[0m \u001b[38;5;28;01mif\u001b[39;00m \u001b[38;5;129;01mnot\u001b[39;00m torch\u001b[38;5;241m.\u001b[39mmps\u001b[38;5;241m.\u001b[39m_is_in_bad_fork():\n",
      "File \u001b[0;32m~/git_repo/AIE6/11_midterm_challenge_sql_rag_agent/.venv/lib/python3.10/site-packages/torch/cuda/random.py:128\u001b[0m, in \u001b[0;36mmanual_seed_all\u001b[0;34m(seed)\u001b[0m\n\u001b[1;32m    125\u001b[0m         default_generator \u001b[38;5;241m=\u001b[39m torch\u001b[38;5;241m.\u001b[39mcuda\u001b[38;5;241m.\u001b[39mdefault_generators[i]\n\u001b[1;32m    126\u001b[0m         default_generator\u001b[38;5;241m.\u001b[39mmanual_seed(seed)\n\u001b[0;32m--> 128\u001b[0m \u001b[43m_lazy_call\u001b[49m\u001b[43m(\u001b[49m\u001b[43mcb\u001b[49m\u001b[43m,\u001b[49m\u001b[43m \u001b[49m\u001b[43mseed_all\u001b[49m\u001b[38;5;241;43m=\u001b[39;49m\u001b[38;5;28;43;01mTrue\u001b[39;49;00m\u001b[43m)\u001b[49m\n",
      "File \u001b[0;32m~/git_repo/AIE6/11_midterm_challenge_sql_rag_agent/.venv/lib/python3.10/site-packages/torch/cuda/__init__.py:302\u001b[0m, in \u001b[0;36m_lazy_call\u001b[0;34m(callable, **kwargs)\u001b[0m\n\u001b[1;32m    300\u001b[0m \u001b[38;5;28;01mwith\u001b[39;00m _initialization_lock:\n\u001b[1;32m    301\u001b[0m     \u001b[38;5;28;01mif\u001b[39;00m is_initialized():\n\u001b[0;32m--> 302\u001b[0m         \u001b[38;5;28;43mcallable\u001b[39;49m\u001b[43m(\u001b[49m\u001b[43m)\u001b[49m\n\u001b[1;32m    303\u001b[0m     \u001b[38;5;28;01melse\u001b[39;00m:\n\u001b[1;32m    304\u001b[0m         \u001b[38;5;66;03m# TODO(torch_deploy): this accesses linecache, which attempts to read the\u001b[39;00m\n\u001b[1;32m    305\u001b[0m         \u001b[38;5;66;03m# file system to get traceback info. Patch linecache or do something\u001b[39;00m\n\u001b[1;32m    306\u001b[0m         \u001b[38;5;66;03m# else here if this ends up being important.\u001b[39;00m\n\u001b[1;32m    307\u001b[0m         \u001b[38;5;28;01mglobal\u001b[39;00m _lazy_seed_tracker\n",
      "File \u001b[0;32m~/git_repo/AIE6/11_midterm_challenge_sql_rag_agent/.venv/lib/python3.10/site-packages/torch/cuda/random.py:126\u001b[0m, in \u001b[0;36mmanual_seed_all.<locals>.cb\u001b[0;34m()\u001b[0m\n\u001b[1;32m    124\u001b[0m \u001b[38;5;28;01mfor\u001b[39;00m i \u001b[38;5;129;01min\u001b[39;00m \u001b[38;5;28mrange\u001b[39m(device_count()):\n\u001b[1;32m    125\u001b[0m     default_generator \u001b[38;5;241m=\u001b[39m torch\u001b[38;5;241m.\u001b[39mcuda\u001b[38;5;241m.\u001b[39mdefault_generators[i]\n\u001b[0;32m--> 126\u001b[0m     \u001b[43mdefault_generator\u001b[49m\u001b[38;5;241;43m.\u001b[39;49m\u001b[43mmanual_seed\u001b[49m\u001b[43m(\u001b[49m\u001b[43mseed\u001b[49m\u001b[43m)\u001b[49m\n",
      "\u001b[0;31mRuntimeError\u001b[0m: CUDA error: out of memory\nCUDA kernel errors might be asynchronously reported at some other API call, so the stacktrace below might be incorrect.\nFor debugging consider passing CUDA_LAUNCH_BLOCKING=1\nCompile with `TORCH_USE_CUDA_DSA` to enable device-side assertions.\n"
     ]
    }
   ],
   "source": []
  },
  {
   "cell_type": "code",
   "execution_count": null,
   "metadata": {},
   "outputs": [],
   "source": []
  },
  {
   "cell_type": "code",
   "execution_count": null,
   "metadata": {},
   "outputs": [],
   "source": []
  },
  {
   "cell_type": "code",
   "execution_count": null,
   "metadata": {},
   "outputs": [],
   "source": []
  },
  {
   "cell_type": "code",
   "execution_count": null,
   "metadata": {},
   "outputs": [],
   "source": []
  },
  {
   "cell_type": "code",
   "execution_count": null,
   "metadata": {},
   "outputs": [],
   "source": []
  },
  {
   "cell_type": "code",
   "execution_count": null,
   "metadata": {},
   "outputs": [],
   "source": []
  },
  {
   "cell_type": "code",
   "execution_count": null,
   "metadata": {},
   "outputs": [],
   "source": []
  },
  {
   "cell_type": "code",
   "execution_count": null,
   "metadata": {},
   "outputs": [],
   "source": []
  },
  {
   "cell_type": "markdown",
   "metadata": {},
   "source": []
  },
  {
   "cell_type": "code",
   "execution_count": null,
   "metadata": {},
   "outputs": [],
   "source": []
  },
  {
   "cell_type": "code",
   "execution_count": null,
   "metadata": {},
   "outputs": [],
   "source": []
  },
  {
   "cell_type": "code",
   "execution_count": null,
   "metadata": {},
   "outputs": [],
   "source": []
  },
  {
   "cell_type": "markdown",
   "metadata": {},
   "source": []
  },
  {
   "cell_type": "code",
   "execution_count": null,
   "metadata": {},
   "outputs": [],
   "source": []
  },
  {
   "cell_type": "code",
   "execution_count": null,
   "metadata": {},
   "outputs": [],
   "source": []
  },
  {
   "cell_type": "code",
   "execution_count": null,
   "metadata": {},
   "outputs": [],
   "source": []
  },
  {
   "cell_type": "markdown",
   "metadata": {},
   "source": []
  },
  {
   "cell_type": "code",
   "execution_count": null,
   "metadata": {},
   "outputs": [],
   "source": [
    "\n"
   ]
  },
  {
   "cell_type": "code",
   "execution_count": null,
   "metadata": {},
   "outputs": [],
   "source": []
  },
  {
   "cell_type": "code",
   "execution_count": null,
   "metadata": {},
   "outputs": [],
   "source": []
  },
  {
   "cell_type": "code",
   "execution_count": null,
   "metadata": {},
   "outputs": [],
   "source": []
  },
  {
   "cell_type": "code",
   "execution_count": null,
   "metadata": {},
   "outputs": [],
   "source": []
  },
  {
   "cell_type": "code",
   "execution_count": null,
   "metadata": {},
   "outputs": [],
   "source": []
  },
  {
   "cell_type": "code",
   "execution_count": null,
   "metadata": {},
   "outputs": [],
   "source": []
  },
  {
   "cell_type": "code",
   "execution_count": null,
   "metadata": {},
   "outputs": [],
   "source": []
  },
  {
   "cell_type": "code",
   "execution_count": null,
   "metadata": {},
   "outputs": [],
   "source": []
  },
  {
   "cell_type": "code",
   "execution_count": null,
   "metadata": {},
   "outputs": [],
   "source": []
  },
  {
   "cell_type": "code",
   "execution_count": null,
   "metadata": {},
   "outputs": [],
   "source": []
  },
  {
   "cell_type": "code",
   "execution_count": null,
   "metadata": {},
   "outputs": [],
   "source": []
  }
 ],
 "metadata": {
  "kernelspec": {
   "display_name": ".venv",
   "language": "python",
   "name": "python3"
  },
  "language_info": {
   "codemirror_mode": {
    "name": "ipython",
    "version": 3
   },
   "file_extension": ".py",
   "mimetype": "text/x-python",
   "name": "python",
   "nbconvert_exporter": "python",
   "pygments_lexer": "ipython3",
   "version": "3.10.16"
  }
 },
 "nbformat": 4,
 "nbformat_minor": 2
}
