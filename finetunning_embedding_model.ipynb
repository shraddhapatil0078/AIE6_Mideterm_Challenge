{
 "cells": [
  {
   "cell_type": "code",
   "execution_count": 1,
   "metadata": {},
   "outputs": [],
   "source": [
    "import os\n",
    "import getpass\n",
    "from langchain_openai import ChatOpenAI, OpenAIEmbeddings\n",
    "from langchain_community.document_loaders import PyMuPDFLoader\n",
    "from langchain_text_splitters import RecursiveCharacterTextSplitter\n",
    "from langchain_community.vectorstores import Qdrant\n",
    "from langchain.retrievers.multi_query import MultiQueryRetriever\n",
    "from langchain_core.prompts import ChatPromptTemplate\n",
    "from operator import itemgetter\n",
    "from langchain_core.output_parsers import StrOutputParser\n",
    "from langchain_core.runnables import RunnablePassthrough\n",
    "from typing import Annotated, List, Tuple, Union, TypedDict, Optional\n",
    "from langchain_core.tools import tool\n",
    "from langchain_core.messages import AnyMessage, AIMessage, HumanMessage\n",
    "from langgraph.graph import START, END, StateGraph\n",
    "from langgraph.graph.message import add_messages\n",
    "from langgraph.prebuilt import ToolNode\n",
    "from qdrant_client import QdrantClient\n",
    "from langchain_community.tools.tavily_search import TavilySearchResults"
   ]
  },
  {
   "cell_type": "code",
   "execution_count": 2,
   "metadata": {},
   "outputs": [],
   "source": [
    "import nest_asyncio\n",
    "\n",
    "nest_asyncio.apply()"
   ]
  },
  {
   "cell_type": "code",
   "execution_count": 14,
   "metadata": {},
   "outputs": [
    {
     "name": "stdout",
     "output_type": "stream",
     "text": [
      "Total split documents: 875\n"
     ]
    }
   ],
   "source": [
    "data_folder = 'data'\n",
    "pdf_files = [os.path.join(data_folder, f) for f in os.listdir(data_folder) if f.endswith('.pdf')]\n",
    "\n",
    "# Load all PDFs\n",
    "all_docs = []\n",
    "for pdf_file in pdf_files:\n",
    "    loader = PyMuPDFLoader(pdf_file)\n",
    "    docs = loader.load()\n",
    "    all_docs.extend(docs)\n",
    "\n",
    "# Split documents\n",
    "splitter = RecursiveCharacterTextSplitter(chunk_size=2000, chunk_overlap=200)\n",
    "split_docs = splitter.split_documents(all_docs)\n",
    "print(f'Total split documents: {len(split_docs)}')"
   ]
  },
  {
   "cell_type": "code",
   "execution_count": 17,
   "metadata": {},
   "outputs": [],
   "source": [
    "training_documents = split_docs"
   ]
  },
  {
   "cell_type": "code",
   "execution_count": 18,
   "metadata": {},
   "outputs": [],
   "source": [
    "import uuid\n",
    "\n",
    "id_set = set()\n",
    "\n",
    "for document in training_documents:\n",
    "  id = str(uuid.uuid4())\n",
    "  while id in id_set:\n",
    "    id = uuid.uuid4()\n",
    "  id_set.add(id)\n",
    "  document.metadata[\"id\"] = id"
   ]
  },
  {
   "cell_type": "code",
   "execution_count": 19,
   "metadata": {},
   "outputs": [],
   "source": [
    "training_split_documents = training_documents[:700]\n",
    "val_split_documents = training_documents[700:788]\n",
    "test_split_documents = training_documents[788:]"
   ]
  },
  {
   "cell_type": "code",
   "execution_count": 20,
   "metadata": {},
   "outputs": [],
   "source": [
    "from langchain_openai import ChatOpenAI\n",
    "\n",
    "qa_chat_model = ChatOpenAI(\n",
    "    model=\"gpt-4.1-mini\",\n",
    "    temperature=0\n",
    ")"
   ]
  },
  {
   "cell_type": "code",
   "execution_count": 22,
   "metadata": {},
   "outputs": [],
   "source": [
    "from langchain_core.prompts import ChatPromptTemplate\n",
    "\n",
    "qa_prompt = \"\"\"\\\n",
    "Given the following context, you must generate questions based on only the provided context.\n",
    "\n",
    "You are to generate {n_questions} questions which should be provided in the following format:\n",
    "\n",
    "1. QUESTION #1\n",
    "2. QUESTION #2\n",
    "...\n",
    "\n",
    "Context:\n",
    "{context}\n",
    "\"\"\"\n",
    "\n",
    "qa_prompt_template = ChatPromptTemplate.from_template(qa_prompt)"
   ]
  },
  {
   "cell_type": "code",
   "execution_count": 23,
   "metadata": {},
   "outputs": [],
   "source": [
    "question_generation_chain = qa_prompt_template | qa_chat_model"
   ]
  },
  {
   "cell_type": "code",
   "execution_count": 25,
   "metadata": {},
   "outputs": [],
   "source": [
    "import tqdm\n",
    "import asyncio\n",
    "\n",
    "\"\"\"\n",
    "Sample Usage of TQDM:\n",
    "\n",
    "for i in tqdm.tqdm(range(10)):\n",
    "  time.sleep(1)\n",
    "\"\"\"\n",
    "\n",
    "async def create_questions(documents, n_questions):\n",
    "\n",
    "    questions = {}\n",
    "    relevant_docs = {}\n",
    "\n",
    "    for doc in tqdm.tqdm(documents, desc=\"Generating questions\"):\n",
    "        # Prepare the input for the chain\n",
    "        input_context = doc.page_content\n",
    "        doc_id = doc.metadata[\"id\"]\n",
    "\n",
    "        # Call the question generation chain\n",
    "        response = await question_generation_chain.ainvoke({\"context\": input_context, \"n_questions\": n_questions})\n",
    "\n",
    "        # Extract questions\n",
    "        generated_questions = response.content.split(\"\\n\")\n",
    "        generated_questions = [q.strip() for q in generated_questions if q.strip()]\n",
    "\n",
    "        # Some outputs might be numbered like \"1. What is ...?\", so clean numbering\n",
    "        cleaned_questions = []\n",
    "        for q in generated_questions:\n",
    "            if q[0].isdigit() and q[1] == '.':\n",
    "                cleaned_questions.append(q[2:].strip())\n",
    "            elif q[0].isdigit() and q[1] == ' ':\n",
    "                cleaned_questions.append(q[1:].strip())\n",
    "            else:\n",
    "                cleaned_questions.append(q)\n",
    "\n",
    "        # Now save each question\n",
    "        for q in cleaned_questions:\n",
    "            question_id = str(uuid.uuid4())\n",
    "            questions[question_id] = q\n",
    "            relevant_docs[question_id] = [doc_id]\n",
    "\n",
    "    return questions, relevant_docs"
   ]
  },
  {
   "cell_type": "code",
   "execution_count": 26,
   "metadata": {},
   "outputs": [
    {
     "name": "stderr",
     "output_type": "stream",
     "text": [
      "Generating questions: 100%|██████████| 700/700 [16:07<00:00,  1.38s/it]\n"
     ]
    }
   ],
   "source": [
    "training_questions, training_relevant_contexts = await create_questions(training_split_documents, 2)"
   ]
  },
  {
   "cell_type": "code",
   "execution_count": 27,
   "metadata": {},
   "outputs": [
    {
     "name": "stderr",
     "output_type": "stream",
     "text": [
      "Generating questions: 100%|██████████| 88/88 [01:59<00:00,  1.36s/it]\n"
     ]
    }
   ],
   "source": [
    "val_questions, val_relevant_contexts = await create_questions(val_split_documents, 2)"
   ]
  },
  {
   "cell_type": "code",
   "execution_count": 28,
   "metadata": {},
   "outputs": [
    {
     "name": "stderr",
     "output_type": "stream",
     "text": [
      "Generating questions: 100%|██████████| 87/87 [02:00<00:00,  1.39s/it]\n"
     ]
    }
   ],
   "source": [
    "test_questions, test_relevant_contexts = await create_questions(test_split_documents, 2)"
   ]
  },
  {
   "cell_type": "code",
   "execution_count": 29,
   "metadata": {},
   "outputs": [],
   "source": [
    "import json\n",
    "\n",
    "training_corpus = {train_item.metadata[\"id\"] : train_item.page_content for train_item in training_split_documents}\n",
    "\n",
    "train_dataset = {\n",
    "    \"questions\" : training_questions,\n",
    "    \"relevant_contexts\" : training_relevant_contexts,\n",
    "    \"corpus\" : training_corpus\n",
    "}\n",
    "\n",
    "with open(\"train_dataset.jsonl\", \"w\") as f:\n",
    "  json.dump(train_dataset, f)    "
   ]
  },
  {
   "cell_type": "code",
   "execution_count": 30,
   "metadata": {},
   "outputs": [],
   "source": [
    "val_corpus = {val_item.metadata[\"id\"] : val_item.page_content for val_item in val_split_documents}\n",
    "\n",
    "val_dataset = {\n",
    "    \"questions\" : val_questions,\n",
    "    \"relevant_contexts\" : val_relevant_contexts,\n",
    "    \"corpus\" : val_corpus\n",
    "}\n",
    "\n",
    "with open(\"val_dataset.jsonl\", \"w\") as f:\n",
    "  json.dump(val_dataset, f)"
   ]
  },
  {
   "cell_type": "code",
   "execution_count": 31,
   "metadata": {},
   "outputs": [],
   "source": [
    "train_corpus = {test_item.metadata[\"id\"] : test_item.page_content for test_item in test_split_documents}\n",
    "\n",
    "test_dataset = {\n",
    "    \"questions\" : test_questions,\n",
    "    \"relevant_contexts\" : test_relevant_contexts,\n",
    "    \"corpus\" : train_corpus\n",
    "}\n",
    "\n",
    "with open(\"test_dataset.jsonl\", \"w\") as f:\n",
    "  json.dump(test_dataset, f)"
   ]
  },
  {
   "cell_type": "code",
   "execution_count": 32,
   "metadata": {},
   "outputs": [],
   "source": [
    "from sentence_transformers import SentenceTransformer\n",
    "\n",
    "model_id = \"Snowflake/snowflake-arctic-embed-m\"\n",
    "model = SentenceTransformer(model_id)"
   ]
  },
  {
   "cell_type": "code",
   "execution_count": 33,
   "metadata": {},
   "outputs": [],
   "source": [
    "from torch.utils.data import DataLoader\n",
    "from torch.utils.data import Dataset\n",
    "from sentence_transformers import InputExample"
   ]
  },
  {
   "cell_type": "code",
   "execution_count": 34,
   "metadata": {},
   "outputs": [],
   "source": [
    "BATCH_SIZE = 10"
   ]
  },
  {
   "cell_type": "code",
   "execution_count": 35,
   "metadata": {},
   "outputs": [],
   "source": [
    "corpus = train_dataset['corpus']\n",
    "queries = train_dataset['questions']\n",
    "relevant_docs = train_dataset['relevant_contexts']\n",
    "\n",
    "examples = []\n",
    "for query_id, query in queries.items():\n",
    "    doc_id = relevant_docs[query_id][0]\n",
    "    text = corpus[doc_id]\n",
    "    example = InputExample(texts=[query, text])\n",
    "    examples.append(example)"
   ]
  },
  {
   "cell_type": "code",
   "execution_count": 36,
   "metadata": {},
   "outputs": [],
   "source": [
    "loader = DataLoader(\n",
    "    examples, batch_size=BATCH_SIZE\n",
    ")"
   ]
  },
  {
   "cell_type": "code",
   "execution_count": 37,
   "metadata": {},
   "outputs": [],
   "source": [
    "from sentence_transformers.losses import MatryoshkaLoss, MultipleNegativesRankingLoss\n",
    "\n",
    "matryoshka_dimensions = [768, 512, 256, 128, 64]\n",
    "inner_train_loss = MultipleNegativesRankingLoss(model)\n",
    "train_loss = MatryoshkaLoss(\n",
    "    model, inner_train_loss, matryoshka_dims=matryoshka_dimensions\n",
    ")"
   ]
  },
  {
   "cell_type": "code",
   "execution_count": 38,
   "metadata": {},
   "outputs": [],
   "source": [
    "from sentence_transformers.evaluation import InformationRetrievalEvaluator\n",
    "\n",
    "corpus = val_dataset['corpus']\n",
    "queries = val_dataset['questions']\n",
    "relevant_docs = val_dataset['relevant_contexts']\n",
    "\n",
    "evaluator = InformationRetrievalEvaluator(queries, corpus, relevant_docs)"
   ]
  },
  {
   "cell_type": "code",
   "execution_count": 39,
   "metadata": {},
   "outputs": [],
   "source": [
    "EPOCHS = 10"
   ]
  },
  {
   "cell_type": "code",
   "execution_count": 40,
   "metadata": {},
   "outputs": [
    {
     "data": {
      "text/html": [
       "<button onClick=\"this.nextSibling.style.display='block';this.style.display='none';\">Display W&B run</button><iframe src='https://wandb.ai/dummy/dummy/runs/fbvetc91?jupyter=true' style='border:none;width:100%;height:420px;display:none;'></iframe>"
      ],
      "text/plain": [
       "<wandb.sdk.wandb_run.Run at 0x7f593abd97b0>"
      ]
     },
     "execution_count": 40,
     "metadata": {},
     "output_type": "execute_result"
    }
   ],
   "source": [
    "import wandb\n",
    "wandb.init(mode=\"disabled\")"
   ]
  },
  {
   "cell_type": "code",
   "execution_count": 41,
   "metadata": {},
   "outputs": [
    {
     "data": {
      "application/vnd.jupyter.widget-view+json": {
       "model_id": "65b0e6c21c9741d8ab3a1a840d5af895",
       "version_major": 2,
       "version_minor": 0
      },
      "text/plain": [
       "Computing widget examples:   0%|          | 0/1 [00:00<?, ?example/s]"
      ]
     },
     "metadata": {},
     "output_type": "display_data"
    },
    {
     "name": "stderr",
     "output_type": "stream",
     "text": [
      "\u001b[34m\u001b[1mwandb\u001b[0m: \u001b[33mWARNING\u001b[0m The `run_name` is currently set to the same value as `TrainingArguments.output_dir`. If this was not intended, please specify a different run name by setting the `TrainingArguments.run_name` parameter.\n"
     ]
    },
    {
     "data": {
      "text/html": [
       "\n",
       "    <div>\n",
       "      \n",
       "      <progress value='1400' max='1400' style='width:300px; height:20px; vertical-align: middle;'></progress>\n",
       "      [1400/1400 24:34, Epoch 10/10]\n",
       "    </div>\n",
       "    <table border=\"1\" class=\"dataframe\">\n",
       "  <thead>\n",
       " <tr style=\"text-align: left;\">\n",
       "      <th>Step</th>\n",
       "      <th>Training Loss</th>\n",
       "      <th>Validation Loss</th>\n",
       "      <th>Cosine Accuracy@1</th>\n",
       "      <th>Cosine Accuracy@3</th>\n",
       "      <th>Cosine Accuracy@5</th>\n",
       "      <th>Cosine Accuracy@10</th>\n",
       "      <th>Cosine Precision@1</th>\n",
       "      <th>Cosine Precision@3</th>\n",
       "      <th>Cosine Precision@5</th>\n",
       "      <th>Cosine Precision@10</th>\n",
       "      <th>Cosine Recall@1</th>\n",
       "      <th>Cosine Recall@3</th>\n",
       "      <th>Cosine Recall@5</th>\n",
       "      <th>Cosine Recall@10</th>\n",
       "      <th>Cosine Ndcg@10</th>\n",
       "      <th>Cosine Mrr@10</th>\n",
       "      <th>Cosine Map@100</th>\n",
       "    </tr>\n",
       "  </thead>\n",
       "  <tbody>\n",
       "    <tr>\n",
       "      <td>50</td>\n",
       "      <td>No log</td>\n",
       "      <td>No log</td>\n",
       "      <td>0.715909</td>\n",
       "      <td>0.886364</td>\n",
       "      <td>0.948864</td>\n",
       "      <td>0.971591</td>\n",
       "      <td>0.715909</td>\n",
       "      <td>0.295455</td>\n",
       "      <td>0.189773</td>\n",
       "      <td>0.097159</td>\n",
       "      <td>0.715909</td>\n",
       "      <td>0.886364</td>\n",
       "      <td>0.948864</td>\n",
       "      <td>0.971591</td>\n",
       "      <td>0.853984</td>\n",
       "      <td>0.815111</td>\n",
       "      <td>0.816803</td>\n",
       "    </tr>\n",
       "    <tr>\n",
       "      <td>100</td>\n",
       "      <td>No log</td>\n",
       "      <td>No log</td>\n",
       "      <td>0.806818</td>\n",
       "      <td>0.943182</td>\n",
       "      <td>0.982955</td>\n",
       "      <td>0.994318</td>\n",
       "      <td>0.806818</td>\n",
       "      <td>0.314394</td>\n",
       "      <td>0.196591</td>\n",
       "      <td>0.099432</td>\n",
       "      <td>0.806818</td>\n",
       "      <td>0.943182</td>\n",
       "      <td>0.982955</td>\n",
       "      <td>0.994318</td>\n",
       "      <td>0.909813</td>\n",
       "      <td>0.881534</td>\n",
       "      <td>0.881850</td>\n",
       "    </tr>\n",
       "    <tr>\n",
       "      <td>140</td>\n",
       "      <td>No log</td>\n",
       "      <td>No log</td>\n",
       "      <td>0.806818</td>\n",
       "      <td>0.965909</td>\n",
       "      <td>0.982955</td>\n",
       "      <td>1.000000</td>\n",
       "      <td>0.806818</td>\n",
       "      <td>0.321970</td>\n",
       "      <td>0.196591</td>\n",
       "      <td>0.100000</td>\n",
       "      <td>0.806818</td>\n",
       "      <td>0.965909</td>\n",
       "      <td>0.982955</td>\n",
       "      <td>1.000000</td>\n",
       "      <td>0.912373</td>\n",
       "      <td>0.883160</td>\n",
       "      <td>0.883160</td>\n",
       "    </tr>\n",
       "    <tr>\n",
       "      <td>150</td>\n",
       "      <td>No log</td>\n",
       "      <td>No log</td>\n",
       "      <td>0.806818</td>\n",
       "      <td>0.954545</td>\n",
       "      <td>0.982955</td>\n",
       "      <td>1.000000</td>\n",
       "      <td>0.806818</td>\n",
       "      <td>0.318182</td>\n",
       "      <td>0.196591</td>\n",
       "      <td>0.100000</td>\n",
       "      <td>0.806818</td>\n",
       "      <td>0.954545</td>\n",
       "      <td>0.982955</td>\n",
       "      <td>1.000000</td>\n",
       "      <td>0.910841</td>\n",
       "      <td>0.881266</td>\n",
       "      <td>0.881266</td>\n",
       "    </tr>\n",
       "    <tr>\n",
       "      <td>200</td>\n",
       "      <td>No log</td>\n",
       "      <td>No log</td>\n",
       "      <td>0.806818</td>\n",
       "      <td>0.960227</td>\n",
       "      <td>0.988636</td>\n",
       "      <td>1.000000</td>\n",
       "      <td>0.806818</td>\n",
       "      <td>0.320076</td>\n",
       "      <td>0.197727</td>\n",
       "      <td>0.100000</td>\n",
       "      <td>0.806818</td>\n",
       "      <td>0.960227</td>\n",
       "      <td>0.988636</td>\n",
       "      <td>1.000000</td>\n",
       "      <td>0.913873</td>\n",
       "      <td>0.885006</td>\n",
       "      <td>0.885006</td>\n",
       "    </tr>\n",
       "    <tr>\n",
       "      <td>250</td>\n",
       "      <td>No log</td>\n",
       "      <td>No log</td>\n",
       "      <td>0.823864</td>\n",
       "      <td>0.965909</td>\n",
       "      <td>0.982955</td>\n",
       "      <td>1.000000</td>\n",
       "      <td>0.823864</td>\n",
       "      <td>0.321970</td>\n",
       "      <td>0.196591</td>\n",
       "      <td>0.100000</td>\n",
       "      <td>0.823864</td>\n",
       "      <td>0.965909</td>\n",
       "      <td>0.982955</td>\n",
       "      <td>1.000000</td>\n",
       "      <td>0.920502</td>\n",
       "      <td>0.893962</td>\n",
       "      <td>0.893962</td>\n",
       "    </tr>\n",
       "    <tr>\n",
       "      <td>280</td>\n",
       "      <td>No log</td>\n",
       "      <td>No log</td>\n",
       "      <td>0.829545</td>\n",
       "      <td>0.965909</td>\n",
       "      <td>0.988636</td>\n",
       "      <td>1.000000</td>\n",
       "      <td>0.829545</td>\n",
       "      <td>0.321970</td>\n",
       "      <td>0.197727</td>\n",
       "      <td>0.100000</td>\n",
       "      <td>0.829545</td>\n",
       "      <td>0.965909</td>\n",
       "      <td>0.988636</td>\n",
       "      <td>1.000000</td>\n",
       "      <td>0.923896</td>\n",
       "      <td>0.898359</td>\n",
       "      <td>0.898359</td>\n",
       "    </tr>\n",
       "    <tr>\n",
       "      <td>300</td>\n",
       "      <td>No log</td>\n",
       "      <td>No log</td>\n",
       "      <td>0.812500</td>\n",
       "      <td>0.960227</td>\n",
       "      <td>0.982955</td>\n",
       "      <td>1.000000</td>\n",
       "      <td>0.812500</td>\n",
       "      <td>0.320076</td>\n",
       "      <td>0.196591</td>\n",
       "      <td>0.100000</td>\n",
       "      <td>0.812500</td>\n",
       "      <td>0.960227</td>\n",
       "      <td>0.982955</td>\n",
       "      <td>1.000000</td>\n",
       "      <td>0.915895</td>\n",
       "      <td>0.887784</td>\n",
       "      <td>0.887784</td>\n",
       "    </tr>\n",
       "    <tr>\n",
       "      <td>350</td>\n",
       "      <td>No log</td>\n",
       "      <td>No log</td>\n",
       "      <td>0.818182</td>\n",
       "      <td>0.965909</td>\n",
       "      <td>0.982955</td>\n",
       "      <td>1.000000</td>\n",
       "      <td>0.818182</td>\n",
       "      <td>0.321970</td>\n",
       "      <td>0.196591</td>\n",
       "      <td>0.100000</td>\n",
       "      <td>0.818182</td>\n",
       "      <td>0.965909</td>\n",
       "      <td>0.982955</td>\n",
       "      <td>1.000000</td>\n",
       "      <td>0.918467</td>\n",
       "      <td>0.891193</td>\n",
       "      <td>0.891193</td>\n",
       "    </tr>\n",
       "    <tr>\n",
       "      <td>400</td>\n",
       "      <td>No log</td>\n",
       "      <td>No log</td>\n",
       "      <td>0.818182</td>\n",
       "      <td>0.960227</td>\n",
       "      <td>0.988636</td>\n",
       "      <td>1.000000</td>\n",
       "      <td>0.818182</td>\n",
       "      <td>0.320076</td>\n",
       "      <td>0.197727</td>\n",
       "      <td>0.100000</td>\n",
       "      <td>0.818182</td>\n",
       "      <td>0.960227</td>\n",
       "      <td>0.988636</td>\n",
       "      <td>1.000000</td>\n",
       "      <td>0.920366</td>\n",
       "      <td>0.893466</td>\n",
       "      <td>0.893466</td>\n",
       "    </tr>\n",
       "    <tr>\n",
       "      <td>420</td>\n",
       "      <td>No log</td>\n",
       "      <td>No log</td>\n",
       "      <td>0.812500</td>\n",
       "      <td>0.965909</td>\n",
       "      <td>0.988636</td>\n",
       "      <td>1.000000</td>\n",
       "      <td>0.812500</td>\n",
       "      <td>0.321970</td>\n",
       "      <td>0.197727</td>\n",
       "      <td>0.100000</td>\n",
       "      <td>0.812500</td>\n",
       "      <td>0.965909</td>\n",
       "      <td>0.988636</td>\n",
       "      <td>1.000000</td>\n",
       "      <td>0.918663</td>\n",
       "      <td>0.891098</td>\n",
       "      <td>0.891098</td>\n",
       "    </tr>\n",
       "    <tr>\n",
       "      <td>450</td>\n",
       "      <td>No log</td>\n",
       "      <td>No log</td>\n",
       "      <td>0.812500</td>\n",
       "      <td>0.971591</td>\n",
       "      <td>0.982955</td>\n",
       "      <td>1.000000</td>\n",
       "      <td>0.812500</td>\n",
       "      <td>0.323864</td>\n",
       "      <td>0.196591</td>\n",
       "      <td>0.100000</td>\n",
       "      <td>0.812500</td>\n",
       "      <td>0.971591</td>\n",
       "      <td>0.982955</td>\n",
       "      <td>1.000000</td>\n",
       "      <td>0.916020</td>\n",
       "      <td>0.887879</td>\n",
       "      <td>0.887879</td>\n",
       "    </tr>\n",
       "    <tr>\n",
       "      <td>500</td>\n",
       "      <td>0.693100</td>\n",
       "      <td>No log</td>\n",
       "      <td>0.818182</td>\n",
       "      <td>0.971591</td>\n",
       "      <td>0.988636</td>\n",
       "      <td>1.000000</td>\n",
       "      <td>0.818182</td>\n",
       "      <td>0.323864</td>\n",
       "      <td>0.197727</td>\n",
       "      <td>0.100000</td>\n",
       "      <td>0.818182</td>\n",
       "      <td>0.971591</td>\n",
       "      <td>0.988636</td>\n",
       "      <td>1.000000</td>\n",
       "      <td>0.921154</td>\n",
       "      <td>0.894413</td>\n",
       "      <td>0.894413</td>\n",
       "    </tr>\n",
       "    <tr>\n",
       "      <td>550</td>\n",
       "      <td>0.693100</td>\n",
       "      <td>No log</td>\n",
       "      <td>0.823864</td>\n",
       "      <td>0.965909</td>\n",
       "      <td>0.982955</td>\n",
       "      <td>1.000000</td>\n",
       "      <td>0.823864</td>\n",
       "      <td>0.321970</td>\n",
       "      <td>0.196591</td>\n",
       "      <td>0.100000</td>\n",
       "      <td>0.823864</td>\n",
       "      <td>0.965909</td>\n",
       "      <td>0.982955</td>\n",
       "      <td>1.000000</td>\n",
       "      <td>0.920816</td>\n",
       "      <td>0.894278</td>\n",
       "      <td>0.894278</td>\n",
       "    </tr>\n",
       "    <tr>\n",
       "      <td>560</td>\n",
       "      <td>0.693100</td>\n",
       "      <td>No log</td>\n",
       "      <td>0.823864</td>\n",
       "      <td>0.965909</td>\n",
       "      <td>0.982955</td>\n",
       "      <td>1.000000</td>\n",
       "      <td>0.823864</td>\n",
       "      <td>0.321970</td>\n",
       "      <td>0.196591</td>\n",
       "      <td>0.100000</td>\n",
       "      <td>0.823864</td>\n",
       "      <td>0.965909</td>\n",
       "      <td>0.982955</td>\n",
       "      <td>1.000000</td>\n",
       "      <td>0.920816</td>\n",
       "      <td>0.894278</td>\n",
       "      <td>0.894278</td>\n",
       "    </tr>\n",
       "    <tr>\n",
       "      <td>600</td>\n",
       "      <td>0.693100</td>\n",
       "      <td>No log</td>\n",
       "      <td>0.829545</td>\n",
       "      <td>0.971591</td>\n",
       "      <td>0.988636</td>\n",
       "      <td>1.000000</td>\n",
       "      <td>0.829545</td>\n",
       "      <td>0.323864</td>\n",
       "      <td>0.197727</td>\n",
       "      <td>0.100000</td>\n",
       "      <td>0.829545</td>\n",
       "      <td>0.971591</td>\n",
       "      <td>0.988636</td>\n",
       "      <td>1.000000</td>\n",
       "      <td>0.924355</td>\n",
       "      <td>0.898864</td>\n",
       "      <td>0.898864</td>\n",
       "    </tr>\n",
       "    <tr>\n",
       "      <td>650</td>\n",
       "      <td>0.693100</td>\n",
       "      <td>No log</td>\n",
       "      <td>0.829545</td>\n",
       "      <td>0.971591</td>\n",
       "      <td>0.988636</td>\n",
       "      <td>1.000000</td>\n",
       "      <td>0.829545</td>\n",
       "      <td>0.323864</td>\n",
       "      <td>0.197727</td>\n",
       "      <td>0.100000</td>\n",
       "      <td>0.829545</td>\n",
       "      <td>0.971591</td>\n",
       "      <td>0.988636</td>\n",
       "      <td>1.000000</td>\n",
       "      <td>0.924106</td>\n",
       "      <td>0.898580</td>\n",
       "      <td>0.898580</td>\n",
       "    </tr>\n",
       "    <tr>\n",
       "      <td>700</td>\n",
       "      <td>0.693100</td>\n",
       "      <td>No log</td>\n",
       "      <td>0.835227</td>\n",
       "      <td>0.965909</td>\n",
       "      <td>0.988636</td>\n",
       "      <td>1.000000</td>\n",
       "      <td>0.835227</td>\n",
       "      <td>0.321970</td>\n",
       "      <td>0.197727</td>\n",
       "      <td>0.100000</td>\n",
       "      <td>0.835227</td>\n",
       "      <td>0.965909</td>\n",
       "      <td>0.988636</td>\n",
       "      <td>1.000000</td>\n",
       "      <td>0.925065</td>\n",
       "      <td>0.900000</td>\n",
       "      <td>0.900000</td>\n",
       "    </tr>\n",
       "    <tr>\n",
       "      <td>750</td>\n",
       "      <td>0.693100</td>\n",
       "      <td>No log</td>\n",
       "      <td>0.840909</td>\n",
       "      <td>0.971591</td>\n",
       "      <td>0.988636</td>\n",
       "      <td>1.000000</td>\n",
       "      <td>0.840909</td>\n",
       "      <td>0.323864</td>\n",
       "      <td>0.197727</td>\n",
       "      <td>0.100000</td>\n",
       "      <td>0.840909</td>\n",
       "      <td>0.971591</td>\n",
       "      <td>0.988636</td>\n",
       "      <td>1.000000</td>\n",
       "      <td>0.928798</td>\n",
       "      <td>0.904830</td>\n",
       "      <td>0.904830</td>\n",
       "    </tr>\n",
       "    <tr>\n",
       "      <td>800</td>\n",
       "      <td>0.693100</td>\n",
       "      <td>No log</td>\n",
       "      <td>0.829545</td>\n",
       "      <td>0.971591</td>\n",
       "      <td>0.994318</td>\n",
       "      <td>1.000000</td>\n",
       "      <td>0.829545</td>\n",
       "      <td>0.323864</td>\n",
       "      <td>0.198864</td>\n",
       "      <td>0.100000</td>\n",
       "      <td>0.829545</td>\n",
       "      <td>0.971591</td>\n",
       "      <td>0.994318</td>\n",
       "      <td>1.000000</td>\n",
       "      <td>0.925522</td>\n",
       "      <td>0.900284</td>\n",
       "      <td>0.900284</td>\n",
       "    </tr>\n",
       "    <tr>\n",
       "      <td>840</td>\n",
       "      <td>0.693100</td>\n",
       "      <td>No log</td>\n",
       "      <td>0.823864</td>\n",
       "      <td>0.977273</td>\n",
       "      <td>0.994318</td>\n",
       "      <td>1.000000</td>\n",
       "      <td>0.823864</td>\n",
       "      <td>0.325758</td>\n",
       "      <td>0.198864</td>\n",
       "      <td>0.100000</td>\n",
       "      <td>0.823864</td>\n",
       "      <td>0.977273</td>\n",
       "      <td>0.994318</td>\n",
       "      <td>1.000000</td>\n",
       "      <td>0.924068</td>\n",
       "      <td>0.898201</td>\n",
       "      <td>0.898201</td>\n",
       "    </tr>\n",
       "    <tr>\n",
       "      <td>850</td>\n",
       "      <td>0.693100</td>\n",
       "      <td>No log</td>\n",
       "      <td>0.829545</td>\n",
       "      <td>0.977273</td>\n",
       "      <td>0.994318</td>\n",
       "      <td>1.000000</td>\n",
       "      <td>0.829545</td>\n",
       "      <td>0.325758</td>\n",
       "      <td>0.198864</td>\n",
       "      <td>0.100000</td>\n",
       "      <td>0.829545</td>\n",
       "      <td>0.977273</td>\n",
       "      <td>0.994318</td>\n",
       "      <td>1.000000</td>\n",
       "      <td>0.926165</td>\n",
       "      <td>0.901042</td>\n",
       "      <td>0.901042</td>\n",
       "    </tr>\n",
       "    <tr>\n",
       "      <td>900</td>\n",
       "      <td>0.693100</td>\n",
       "      <td>No log</td>\n",
       "      <td>0.823864</td>\n",
       "      <td>0.977273</td>\n",
       "      <td>0.994318</td>\n",
       "      <td>1.000000</td>\n",
       "      <td>0.823864</td>\n",
       "      <td>0.325758</td>\n",
       "      <td>0.198864</td>\n",
       "      <td>0.100000</td>\n",
       "      <td>0.823864</td>\n",
       "      <td>0.977273</td>\n",
       "      <td>0.994318</td>\n",
       "      <td>1.000000</td>\n",
       "      <td>0.924563</td>\n",
       "      <td>0.898864</td>\n",
       "      <td>0.898864</td>\n",
       "    </tr>\n",
       "    <tr>\n",
       "      <td>950</td>\n",
       "      <td>0.693100</td>\n",
       "      <td>No log</td>\n",
       "      <td>0.829545</td>\n",
       "      <td>0.977273</td>\n",
       "      <td>0.994318</td>\n",
       "      <td>1.000000</td>\n",
       "      <td>0.829545</td>\n",
       "      <td>0.325758</td>\n",
       "      <td>0.198864</td>\n",
       "      <td>0.100000</td>\n",
       "      <td>0.829545</td>\n",
       "      <td>0.977273</td>\n",
       "      <td>0.994318</td>\n",
       "      <td>1.000000</td>\n",
       "      <td>0.925172</td>\n",
       "      <td>0.899811</td>\n",
       "      <td>0.899811</td>\n",
       "    </tr>\n",
       "    <tr>\n",
       "      <td>980</td>\n",
       "      <td>0.693100</td>\n",
       "      <td>No log</td>\n",
       "      <td>0.823864</td>\n",
       "      <td>0.977273</td>\n",
       "      <td>0.994318</td>\n",
       "      <td>1.000000</td>\n",
       "      <td>0.823864</td>\n",
       "      <td>0.325758</td>\n",
       "      <td>0.198864</td>\n",
       "      <td>0.100000</td>\n",
       "      <td>0.823864</td>\n",
       "      <td>0.977273</td>\n",
       "      <td>0.994318</td>\n",
       "      <td>1.000000</td>\n",
       "      <td>0.922331</td>\n",
       "      <td>0.896023</td>\n",
       "      <td>0.896023</td>\n",
       "    </tr>\n",
       "    <tr>\n",
       "      <td>1000</td>\n",
       "      <td>0.097800</td>\n",
       "      <td>No log</td>\n",
       "      <td>0.829545</td>\n",
       "      <td>0.965909</td>\n",
       "      <td>0.994318</td>\n",
       "      <td>1.000000</td>\n",
       "      <td>0.829545</td>\n",
       "      <td>0.321970</td>\n",
       "      <td>0.198864</td>\n",
       "      <td>0.100000</td>\n",
       "      <td>0.829545</td>\n",
       "      <td>0.965909</td>\n",
       "      <td>0.994318</td>\n",
       "      <td>1.000000</td>\n",
       "      <td>0.924384</td>\n",
       "      <td>0.898864</td>\n",
       "      <td>0.898864</td>\n",
       "    </tr>\n",
       "    <tr>\n",
       "      <td>1050</td>\n",
       "      <td>0.097800</td>\n",
       "      <td>No log</td>\n",
       "      <td>0.846591</td>\n",
       "      <td>0.971591</td>\n",
       "      <td>0.994318</td>\n",
       "      <td>1.000000</td>\n",
       "      <td>0.846591</td>\n",
       "      <td>0.323864</td>\n",
       "      <td>0.198864</td>\n",
       "      <td>0.100000</td>\n",
       "      <td>0.846591</td>\n",
       "      <td>0.971591</td>\n",
       "      <td>0.994318</td>\n",
       "      <td>1.000000</td>\n",
       "      <td>0.932806</td>\n",
       "      <td>0.910038</td>\n",
       "      <td>0.910038</td>\n",
       "    </tr>\n",
       "    <tr>\n",
       "      <td>1100</td>\n",
       "      <td>0.097800</td>\n",
       "      <td>No log</td>\n",
       "      <td>0.840909</td>\n",
       "      <td>0.977273</td>\n",
       "      <td>0.994318</td>\n",
       "      <td>1.000000</td>\n",
       "      <td>0.840909</td>\n",
       "      <td>0.325758</td>\n",
       "      <td>0.198864</td>\n",
       "      <td>0.100000</td>\n",
       "      <td>0.840909</td>\n",
       "      <td>0.977273</td>\n",
       "      <td>0.994318</td>\n",
       "      <td>1.000000</td>\n",
       "      <td>0.929615</td>\n",
       "      <td>0.905777</td>\n",
       "      <td>0.905777</td>\n",
       "    </tr>\n",
       "    <tr>\n",
       "      <td>1120</td>\n",
       "      <td>0.097800</td>\n",
       "      <td>No log</td>\n",
       "      <td>0.829545</td>\n",
       "      <td>0.971591</td>\n",
       "      <td>0.994318</td>\n",
       "      <td>1.000000</td>\n",
       "      <td>0.829545</td>\n",
       "      <td>0.323864</td>\n",
       "      <td>0.198864</td>\n",
       "      <td>0.100000</td>\n",
       "      <td>0.829545</td>\n",
       "      <td>0.971591</td>\n",
       "      <td>0.994318</td>\n",
       "      <td>1.000000</td>\n",
       "      <td>0.925522</td>\n",
       "      <td>0.900284</td>\n",
       "      <td>0.900284</td>\n",
       "    </tr>\n",
       "    <tr>\n",
       "      <td>1150</td>\n",
       "      <td>0.097800</td>\n",
       "      <td>No log</td>\n",
       "      <td>0.835227</td>\n",
       "      <td>0.971591</td>\n",
       "      <td>0.994318</td>\n",
       "      <td>1.000000</td>\n",
       "      <td>0.835227</td>\n",
       "      <td>0.323864</td>\n",
       "      <td>0.198864</td>\n",
       "      <td>0.100000</td>\n",
       "      <td>0.835227</td>\n",
       "      <td>0.971591</td>\n",
       "      <td>0.994318</td>\n",
       "      <td>1.000000</td>\n",
       "      <td>0.927868</td>\n",
       "      <td>0.903409</td>\n",
       "      <td>0.903409</td>\n",
       "    </tr>\n",
       "    <tr>\n",
       "      <td>1200</td>\n",
       "      <td>0.097800</td>\n",
       "      <td>No log</td>\n",
       "      <td>0.835227</td>\n",
       "      <td>0.982955</td>\n",
       "      <td>0.994318</td>\n",
       "      <td>1.000000</td>\n",
       "      <td>0.835227</td>\n",
       "      <td>0.327652</td>\n",
       "      <td>0.198864</td>\n",
       "      <td>0.100000</td>\n",
       "      <td>0.835227</td>\n",
       "      <td>0.982955</td>\n",
       "      <td>0.994318</td>\n",
       "      <td>1.000000</td>\n",
       "      <td>0.928655</td>\n",
       "      <td>0.904356</td>\n",
       "      <td>0.904356</td>\n",
       "    </tr>\n",
       "    <tr>\n",
       "      <td>1250</td>\n",
       "      <td>0.097800</td>\n",
       "      <td>No log</td>\n",
       "      <td>0.835227</td>\n",
       "      <td>0.982955</td>\n",
       "      <td>0.994318</td>\n",
       "      <td>1.000000</td>\n",
       "      <td>0.835227</td>\n",
       "      <td>0.327652</td>\n",
       "      <td>0.198864</td>\n",
       "      <td>0.100000</td>\n",
       "      <td>0.835227</td>\n",
       "      <td>0.982955</td>\n",
       "      <td>0.994318</td>\n",
       "      <td>1.000000</td>\n",
       "      <td>0.927912</td>\n",
       "      <td>0.903409</td>\n",
       "      <td>0.903409</td>\n",
       "    </tr>\n",
       "    <tr>\n",
       "      <td>1260</td>\n",
       "      <td>0.097800</td>\n",
       "      <td>No log</td>\n",
       "      <td>0.835227</td>\n",
       "      <td>0.977273</td>\n",
       "      <td>0.994318</td>\n",
       "      <td>1.000000</td>\n",
       "      <td>0.835227</td>\n",
       "      <td>0.325758</td>\n",
       "      <td>0.198864</td>\n",
       "      <td>0.100000</td>\n",
       "      <td>0.835227</td>\n",
       "      <td>0.977273</td>\n",
       "      <td>0.994318</td>\n",
       "      <td>1.000000</td>\n",
       "      <td>0.927518</td>\n",
       "      <td>0.902936</td>\n",
       "      <td>0.902936</td>\n",
       "    </tr>\n",
       "    <tr>\n",
       "      <td>1300</td>\n",
       "      <td>0.097800</td>\n",
       "      <td>No log</td>\n",
       "      <td>0.835227</td>\n",
       "      <td>0.971591</td>\n",
       "      <td>0.994318</td>\n",
       "      <td>1.000000</td>\n",
       "      <td>0.835227</td>\n",
       "      <td>0.323864</td>\n",
       "      <td>0.198864</td>\n",
       "      <td>0.100000</td>\n",
       "      <td>0.835227</td>\n",
       "      <td>0.971591</td>\n",
       "      <td>0.994318</td>\n",
       "      <td>1.000000</td>\n",
       "      <td>0.927868</td>\n",
       "      <td>0.903409</td>\n",
       "      <td>0.903409</td>\n",
       "    </tr>\n",
       "    <tr>\n",
       "      <td>1350</td>\n",
       "      <td>0.097800</td>\n",
       "      <td>No log</td>\n",
       "      <td>0.835227</td>\n",
       "      <td>0.977273</td>\n",
       "      <td>0.994318</td>\n",
       "      <td>1.000000</td>\n",
       "      <td>0.835227</td>\n",
       "      <td>0.325758</td>\n",
       "      <td>0.198864</td>\n",
       "      <td>0.100000</td>\n",
       "      <td>0.835227</td>\n",
       "      <td>0.977273</td>\n",
       "      <td>0.994318</td>\n",
       "      <td>1.000000</td>\n",
       "      <td>0.927518</td>\n",
       "      <td>0.902936</td>\n",
       "      <td>0.902936</td>\n",
       "    </tr>\n",
       "    <tr>\n",
       "      <td>1400</td>\n",
       "      <td>0.097800</td>\n",
       "      <td>No log</td>\n",
       "      <td>0.835227</td>\n",
       "      <td>0.977273</td>\n",
       "      <td>0.994318</td>\n",
       "      <td>1.000000</td>\n",
       "      <td>0.835227</td>\n",
       "      <td>0.325758</td>\n",
       "      <td>0.198864</td>\n",
       "      <td>0.100000</td>\n",
       "      <td>0.835227</td>\n",
       "      <td>0.977273</td>\n",
       "      <td>0.994318</td>\n",
       "      <td>1.000000</td>\n",
       "      <td>0.928262</td>\n",
       "      <td>0.903883</td>\n",
       "      <td>0.903883</td>\n",
       "    </tr>\n",
       "  </tbody>\n",
       "</table><p>"
      ],
      "text/plain": [
       "<IPython.core.display.HTML object>"
      ]
     },
     "metadata": {},
     "output_type": "display_data"
    }
   ],
   "source": [
    "warmup_steps = int(len(loader) * EPOCHS * 0.1)\n",
    "\n",
    "model.fit(\n",
    "    train_objectives=[(loader, train_loss)],\n",
    "    epochs=EPOCHS,\n",
    "    warmup_steps=warmup_steps,\n",
    "    output_path='finetuned_arctic_FT',\n",
    "    show_progress_bar=True,\n",
    "    evaluator=evaluator,\n",
    "    evaluation_steps=50\n",
    ")"
   ]
  },
  {
   "cell_type": "code",
   "execution_count": 42,
   "metadata": {},
   "outputs": [
    {
     "data": {
      "application/vnd.jupyter.widget-view+json": {
       "model_id": "70554362aa5d49deac16136d9adaf6dd",
       "version_major": 2,
       "version_minor": 0
      },
      "text/plain": [
       "VBox(children=(HTML(value='<center> <img\\nsrc=https://huggingface.co/front/assets/huggingface_logo-noborder.sv…"
      ]
     },
     "metadata": {},
     "output_type": "display_data"
    }
   ],
   "source": [
    "from huggingface_hub import notebook_login\n",
    "\n",
    "notebook_login()"
   ]
  },
  {
   "cell_type": "code",
   "execution_count": 43,
   "metadata": {},
   "outputs": [],
   "source": [
    "hf_username = \"shradharp\""
   ]
  },
  {
   "cell_type": "code",
   "execution_count": 44,
   "metadata": {},
   "outputs": [
    {
     "data": {
      "application/vnd.jupyter.widget-view+json": {
       "model_id": "25d94a724b0d442eb8141f4ecfa07bcc",
       "version_major": 2,
       "version_minor": 0
      },
      "text/plain": [
       "model.safetensors:   0%|          | 0.00/436M [00:00<?, ?B/s]"
      ]
     },
     "metadata": {},
     "output_type": "display_data"
    },
    {
     "data": {
      "text/plain": [
       "'https://huggingface.co/shradharp/legal-ft-658ea1b1-1d08-4417-8a4e-4920ae593642/commit/a3be0484739c8e3f29a03b46588341435360007c'"
      ]
     },
     "execution_count": 44,
     "metadata": {},
     "output_type": "execute_result"
    }
   ],
   "source": [
    "import uuid\n",
    "\n",
    "model.push_to_hub(f\"{hf_username}/legal-ft-{uuid.uuid4()}\")"
   ]
  },
  {
   "cell_type": "code",
   "execution_count": 45,
   "metadata": {},
   "outputs": [],
   "source": [
    "import pandas as pd\n",
    "\n",
    "from langchain_community.vectorstores import FAISS\n",
    "from langchain_openai.embeddings import OpenAIEmbeddings\n",
    "from langchain_core.documents import Document"
   ]
  },
  {
   "cell_type": "code",
   "execution_count": 49,
   "metadata": {},
   "outputs": [],
   "source": [
    "def evaluate_openai(\n",
    "    dataset,\n",
    "    embed_model,\n",
    "    top_k=5,\n",
    "    verbose=False,\n",
    "):\n",
    "  corpus = dataset['corpus']\n",
    "  questions = dataset['questions']\n",
    "  relevant_docs = dataset['relevant_contexts']\n",
    "  documents = [Document(page_content=content, metadata={\"id\": doc_id}) for doc_id, content in corpus.items()]\n",
    "  vectorstore = FAISS.from_documents(documents, embed_model)\n",
    "\n",
    "  retriever = vectorstore.as_retriever(search_kwargs={\"k\": top_k})\n",
    "\n",
    "  eval_results = []\n",
    "  for id, question in tqdm.tqdm(questions.items()):\n",
    "    retrieved_nodes = retriever.invoke(question)\n",
    "    retrieved_ids = [node.metadata[\"id\"] for node in retrieved_nodes]\n",
    "    expected_id = relevant_docs[id][0]\n",
    "    is_hit = expected_id in retrieved_ids\n",
    "    eval_results.append({\"id\": id, \"question\": question, \"expected_id\": expected_id, \"is_hit\": is_hit})\n",
    "\n",
    "  return eval_results"
   ]
  },
  {
   "cell_type": "code",
   "execution_count": 50,
   "metadata": {},
   "outputs": [
    {
     "name": "stderr",
     "output_type": "stream",
     "text": [
      "100%|██████████| 174/174 [00:54<00:00,  3.21it/s]\n"
     ]
    }
   ],
   "source": [
    "te3_openai = OpenAIEmbeddings(model=\"text-embedding-3-small\")\n",
    "te3_results = evaluate_openai(test_dataset, te3_openai)"
   ]
  },
  {
   "cell_type": "code",
   "execution_count": 51,
   "metadata": {},
   "outputs": [],
   "source": [
    "te3_results_df = pd.DataFrame(te3_results)"
   ]
  },
  {
   "cell_type": "code",
   "execution_count": 52,
   "metadata": {},
   "outputs": [
    {
     "data": {
      "text/plain": [
       "0.9425287356321839"
      ]
     },
     "execution_count": 52,
     "metadata": {},
     "output_type": "execute_result"
    }
   ],
   "source": [
    "te3_hit_rate = te3_results_df[\"is_hit\"].mean()\n",
    "te3_hit_rate"
   ]
  },
  {
   "cell_type": "markdown",
   "metadata": {},
   "source": [
    "### `Snowflake/snowflake-arctic-embed-m` (base)"
   ]
  },
  {
   "cell_type": "code",
   "execution_count": 53,
   "metadata": {},
   "outputs": [
    {
     "name": "stderr",
     "output_type": "stream",
     "text": [
      "100%|██████████| 174/174 [00:01<00:00, 92.65it/s]\n"
     ]
    }
   ],
   "source": [
    "from langchain_huggingface import HuggingFaceEmbeddings\n",
    "\n",
    "huggingface_embeddings = HuggingFaceEmbeddings(model_name=\"Snowflake/snowflake-arctic-embed-m\")\n",
    "arctic_embed_m_results = evaluate_openai(test_dataset, huggingface_embeddings)"
   ]
  },
  {
   "cell_type": "code",
   "execution_count": 54,
   "metadata": {},
   "outputs": [],
   "source": [
    "arctic_embed_m_results_df = pd.DataFrame(arctic_embed_m_results)"
   ]
  },
  {
   "cell_type": "code",
   "execution_count": 55,
   "metadata": {},
   "outputs": [
    {
     "data": {
      "text/plain": [
       "0.6666666666666666"
      ]
     },
     "execution_count": 55,
     "metadata": {},
     "output_type": "execute_result"
    }
   ],
   "source": [
    "arctic_embed_m_hit_rate = arctic_embed_m_results_df[\"is_hit\"].mean()\n",
    "arctic_embed_m_hit_rate"
   ]
  },
  {
   "cell_type": "markdown",
   "metadata": {},
   "source": [
    "### `Snowflake/snowflake-arctic-embed-m` (fine-tuned)"
   ]
  },
  {
   "cell_type": "code",
   "execution_count": 56,
   "metadata": {},
   "outputs": [
    {
     "name": "stderr",
     "output_type": "stream",
     "text": [
      "Some weights of BertModel were not initialized from the model checkpoint at finetuned_arctic_FT and are newly initialized: ['pooler.dense.bias', 'pooler.dense.weight']\n",
      "You should probably TRAIN this model on a down-stream task to be able to use it for predictions and inference.\n",
      "100%|██████████| 174/174 [00:01<00:00, 101.43it/s]\n"
     ]
    }
   ],
   "source": [
    "finetune_embeddings = HuggingFaceEmbeddings(model_name=\"finetuned_arctic_FT\")\n",
    "finetune_results = evaluate_openai(test_dataset, finetune_embeddings)"
   ]
  },
  {
   "cell_type": "code",
   "execution_count": 57,
   "metadata": {},
   "outputs": [],
   "source": [
    "finetune_results_df = pd.DataFrame(finetune_results)"
   ]
  },
  {
   "cell_type": "code",
   "execution_count": 58,
   "metadata": {},
   "outputs": [
    {
     "data": {
      "text/plain": [
       "0.9482758620689655"
      ]
     },
     "execution_count": 58,
     "metadata": {},
     "output_type": "execute_result"
    }
   ],
   "source": [
    "finetune_hit_rate = finetune_results_df[\"is_hit\"].mean()\n",
    "finetune_hit_rate"
   ]
  },
  {
   "cell_type": "markdown",
   "metadata": {},
   "source": [
    "# Vibe Checking RAG pipeline"
   ]
  },
  {
   "cell_type": "code",
   "execution_count": 59,
   "metadata": {},
   "outputs": [
    {
     "name": "stdout",
     "output_type": "stream",
     "text": [
      "Total split documents: 1815\n"
     ]
    }
   ],
   "source": [
    "splitter = RecursiveCharacterTextSplitter(chunk_size=1000, chunk_overlap=200)\n",
    "split_docs = splitter.split_documents(all_docs)\n",
    "print(f'Total split documents: {len(split_docs)}')"
   ]
  },
  {
   "cell_type": "code",
   "execution_count": 60,
   "metadata": {},
   "outputs": [],
   "source": [
    "base_vectorstore = FAISS.from_documents(training_documents, huggingface_embeddings)\n",
    "base_retriever = base_vectorstore.as_retriever(search_kwargs={\"k\": 6})"
   ]
  },
  {
   "cell_type": "code",
   "execution_count": 61,
   "metadata": {},
   "outputs": [],
   "source": [
    "from langchain_core.prompts import ChatPromptTemplate\n",
    "\n",
    "RAG_PROMPT = \"\"\"\\\n",
    "You are an expert assistant that answers questions using ONLY the provided CONTEXT.\n",
    "Do NOT make up any information.\n",
    "\n",
    "CONTEXT:\n",
    "{context}\n",
    "\n",
    "USER QUESTION:\n",
    "{question}\n",
    "\n",
    "Instructions:\n",
    "- If the context fully covers the answer, respond concisely and accurately.\n",
    "- If the context is missing information needed to answer, respond exactly:\n",
    "  INSUFFICIENT_CONTEXT\n",
    "\"\"\""
   ]
  },
  {
   "cell_type": "code",
   "execution_count": 62,
   "metadata": {},
   "outputs": [],
   "source": [
    "rag_prompt_template = ChatPromptTemplate.from_template(RAG_PROMPT)"
   ]
  },
  {
   "cell_type": "code",
   "execution_count": 63,
   "metadata": {},
   "outputs": [],
   "source": [
    "rag_llm =  ChatOpenAI(\n",
    "    model=\"gpt-4o-mini\",\n",
    "    temperature=0\n",
    ")"
   ]
  },
  {
   "cell_type": "code",
   "execution_count": 64,
   "metadata": {},
   "outputs": [],
   "source": [
    "from operator import itemgetter\n",
    "from langchain_core.output_parsers import StrOutputParser\n",
    "from langchain_core.runnables import RunnablePassthrough, RunnableParallel\n",
    "\n",
    "base_rag_chain = (\n",
    "    {\"context\": itemgetter(\"question\") | base_retriever, \"question\": itemgetter(\"question\")}\n",
    "    | RunnablePassthrough.assign(context=itemgetter(\"context\"))\n",
    "    | {\"response\": rag_prompt_template | rag_llm | StrOutputParser(), \"context\": itemgetter(\"context\")}\n",
    ")"
   ]
  },
  {
   "cell_type": "code",
   "execution_count": 65,
   "metadata": {},
   "outputs": [
    {
     "data": {
      "text/plain": [
       "'INSUFFICIENT_CONTEXT'"
      ]
     },
     "execution_count": 65,
     "metadata": {},
     "output_type": "execute_result"
    }
   ],
   "source": [
    "base_rag_chain.invoke({\"question\" : \"Tell me about Radio in Chicago\"})[\"response\"]"
   ]
  },
  {
   "cell_type": "code",
   "execution_count": 66,
   "metadata": {},
   "outputs": [],
   "source": [
    "finetune_vectorstore = FAISS.from_documents(training_documents, finetune_embeddings)\n",
    "finetune_retriever = finetune_vectorstore.as_retriever(search_kwargs={\"k\": 6})"
   ]
  },
  {
   "cell_type": "code",
   "execution_count": 67,
   "metadata": {},
   "outputs": [],
   "source": [
    "finetune_rag_chain = (\n",
    "    {\"context\": itemgetter(\"question\") | finetune_retriever, \"question\": itemgetter(\"question\")}\n",
    "    | RunnablePassthrough.assign(context=itemgetter(\"context\"))\n",
    "    | {\"response\": rag_prompt_template | rag_llm | StrOutputParser(), \"context\": itemgetter(\"context\")}\n",
    ")"
   ]
  },
  {
   "cell_type": "code",
   "execution_count": 68,
   "metadata": {},
   "outputs": [
    {
     "data": {
      "text/plain": [
       "\"Chicago has five 50,000 watt AM radio stations: the Audacy-owned WBBM and WSCR; the Tribune Broadcasting-owned WGN; the Cumulus Media-owned WLS; and the ESPN Radio-owned WMVP. Chicago Public Radio produces nationally aired programs such as PRI's This American Life and NPR's Wait Wait...Don't Tell Me!.\""
      ]
     },
     "execution_count": 68,
     "metadata": {},
     "output_type": "execute_result"
    }
   ],
   "source": [
    "finetune_rag_chain.invoke({\"question\" : \"Tell me about Radio in Chicago?\"})[\"response\"]"
   ]
  }
 ],
 "metadata": {
  "kernelspec": {
   "display_name": ".venv",
   "language": "python",
   "name": "python3"
  },
  "language_info": {
   "codemirror_mode": {
    "name": "ipython",
    "version": 3
   },
   "file_extension": ".py",
   "mimetype": "text/x-python",
   "name": "python",
   "nbconvert_exporter": "python",
   "pygments_lexer": "ipython3",
   "version": "3.10.16"
  }
 },
 "nbformat": 4,
 "nbformat_minor": 2
}
